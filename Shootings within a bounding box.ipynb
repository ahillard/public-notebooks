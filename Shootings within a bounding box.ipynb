{
 "cells": [
  {
   "cell_type": "markdown",
   "metadata": {},
   "source": [
    "We're going to retrieve all shootings within a bounding polygon. This would also work, with light modification, for homicides."
   ]
  },
  {
   "cell_type": "code",
   "execution_count": null,
   "metadata": {
    "collapsed": true
   },
   "outputs": [],
   "source": [
    "import os\n",
    "import requests\n",
    "\n",
    "def get_data(table):\n",
    "    r = requests.get('%stable/json/%s' % (os.environ['NEWSROOMDB_URL'], table))\n",
    "    return r.json()\n",
    "\n",
    "shootings = get_data('shootings')"
   ]
  },
  {
   "cell_type": "code",
   "execution_count": null,
   "metadata": {
    "collapsed": false
   },
   "outputs": [],
   "source": [
    "from shapely.geometry import Point, Polygon\n",
    "\n",
    "northeast = [-87.676145, 41.777527]\n",
    "northwest = [-87.690842, 41.777228]\n",
    "southeast = [-87.675973, 41.766610]\n",
    "southwest = [-87.690651, 41.768241]\n",
    "bounds = Polygon([northwest, northeast, southeast, southwest])"
   ]
  },
  {
   "cell_type": "code",
   "execution_count": null,
   "metadata": {
    "collapsed": false
   },
   "outputs": [],
   "source": [
    "for row in shootings:\n",
    "    if not row['Geocode Override']:\n",
    "        continue\n",
    "    points = row['Geocode Override'][1:-1].split(',')\n",
    "    if len(points) != 2:\n",
    "        continue\n",
    "    point = Point(float(points[1]), float(points[0]))\n",
    "    if bounds.contains(point):\n",
    "        print row['Date'], row['Age'], row['Sex'], '\\n'\n",
    "        "
   ]
  }
 ],
 "metadata": {
  "kernelspec": {
   "display_name": "Python 2",
   "language": "python",
   "name": "python2"
  },
  "language_info": {
   "codemirror_mode": {
    "name": "ipython",
    "version": 2
   },
   "file_extension": ".py",
   "mimetype": "text/x-python",
   "name": "python",
   "nbconvert_exporter": "python",
   "pygments_lexer": "ipython2",
   "version": "2.7.8"
  }
 },
 "nbformat": 4,
 "nbformat_minor": 0
}
