{
 "cells": [
  {
   "cell_type": "markdown",
   "metadata": {},
   "source": [
    "## Fetch the data from NewsroomDB\n",
    "\n",
    "NewsroomDB is the Tribune's proprietary database for tracking data that needs to be manually entered and validated rather than something that can be ingested from an official source.  It's mostly used to track shooting victims and homicides.  As far as I know, CPD doesn't provide granular data on shooting victims and the definition of homicide can be tricky (and vary from source to source).\n",
    "\n",
    "We'll grab shooting victims from the `shootings` collection."
   ]
  },
  {
   "cell_type": "code",
   "execution_count": 40,
   "metadata": {
    "collapsed": false
   },
   "outputs": [
    {
     "name": "stdout",
     "output_type": "stream",
     "text": [
      "Request failed. Probably because the response is huge.  We should fix this.\n",
      "Request failed. Probably because the response is huge.  We should fix this.\n",
      "Request failed. Probably because the response is huge.  We should fix this.\n",
      "Loaded 11511 shooting victims\n"
     ]
    }
   ],
   "source": [
    "import os\n",
    "import requests\n",
    "\n",
    "# A big object to hold all our data between steps\n",
    "data = {}\n",
    "\n",
    "def get_table_url(table_name, base_url=os.environ['NEWSROOMDB_URL']):\n",
    "    return '{}table/json/{}'.format(os.environ['NEWSROOMDB_URL'], table_name)\n",
    "\n",
    "def get_table_data(table_name):\n",
    "    url = get_table_url(table_name)\n",
    "    \n",
    "    try:\n",
    "        r = requests.get(url)\n",
    "        return r.json()\n",
    "    except:\n",
    "        print(\"Request failed. Probably because the response is huge.  We should fix this.\")\n",
    "        return get_table_data(table_name)\n",
    "\n",
    "data['shooting_victims'] = get_table_data('shootings')\n",
    "\n",
    "print(\"Loaded {} shooting victims\".format(len(data['shooting_victims'])))"
   ]
  },
  {
   "cell_type": "markdown",
   "metadata": {},
   "source": [
    "## Filter to only year-to-date shooting victims"
   ]
  },
  {
   "cell_type": "code",
   "execution_count": 41,
   "metadata": {
    "collapsed": false
   },
   "outputs": [
    {
     "name": "stdout",
     "output_type": "stream",
     "text": [
      "Could not parse date for shooting victim with RD Number HX448309\n",
      "Could not parse date for shooting victim with record ID 560bc169db573e1c2c67789e\n",
      "Could not parse date for shooting victim with record ID 565d8490389ce82a2a5b07dc\n",
      "Could not parse date for shooting victim with record ID 56d6c55e389ce82a2a5b09ac\n",
      "Could not parse date for shooting victim with record ID 536b0f4edb573e257039a258\n",
      "Could not parse date for shooting victim with record ID 53693edc389ce83e25cd4823\n",
      "Could not parse date for shooting victim with record ID 536cf216db573e256fa3af22\n",
      "Could not parse date for shooting victim with record ID 53ac49c8389ce835c90b18b9\n",
      "Could not parse date for shooting victim with record ID 536cf773389ce835c8d88b28\n",
      "Could not parse date for shooting victim with record ID 5421c1c1db573e3dc9db2e98\n",
      "Could not parse date for shooting victim with RD Number HX445856\n",
      "Could not parse date for shooting victim with RD Number HX447455\n",
      "Could not parse date for shooting victim with RD Number HY182250\n",
      "Could not parse date for shooting victim with record ID 552c0a0f389ce8650e9a9916\n",
      "Could not parse date for shooting victim with record ID 55c79ce6389ce865f1892777\n",
      "Could not parse date for shooting victim with RD Number HY369178\n",
      "Could not parse date for shooting victim with record ID 565d882edb573e070ae4c259\n",
      "Could not parse date for shooting victim with record ID 565da430389ce82a2bd86b3b\n",
      "Could not parse date for shooting victim with record ID 56e09073389ce82a2a5b09d1\n"
     ]
    }
   ],
   "source": [
    "from datetime import date, datetime\n",
    "\n",
    "def get_shooting_date(shooting_victim):\n",
    "    return datetime.strptime(shooting_victim['Date'], '%Y-%m-%d')\n",
    "\n",
    "def shooting_is_ytd(shooting_victim, today):\n",
    "    try:\n",
    "        shooting_date = get_shooting_date(shooting_victim)\n",
    "    except ValueError:\n",
    "        if shooting_victim['RD Number']:\n",
    "            msg = \"Could not parse date for shooting victim with RD Number {}\".format(\n",
    "                shooting_victim['RD Number'])\n",
    "        else:\n",
    "            msg = \"Could not parse date for shooting victim with record ID {}\".format(\n",
    "                shooting_victim['_id'])\n",
    "        \n",
    "        print(msg)\n",
    "        return False\n",
    "        \n",
    "    return (shooting_date.month <= today.month and\n",
    "            shooting_date.day <= today.day)\n",
    "\n",
    "today = date(2016, 3, 29)\n",
    "#today = date.today()\n",
    "\n",
    "# Use a list comprehension to filter the shooting victims to ones that\n",
    "# occured on or before today's month and day.\n",
    "# Also sort by date because it makes it easier to group by year\n",
    "data['shooting_victims_ytd'] = sorted([sv for sv in data['shooting_victims']\n",
    "                                       if shooting_is_ytd(sv, today)],\n",
    "                                      key=get_shooting_date)"
   ]
  },
  {
   "cell_type": "markdown",
   "metadata": {},
   "source": [
    "## Group shooting victims by year"
   ]
  },
  {
   "cell_type": "code",
   "execution_count": 42,
   "metadata": {
    "collapsed": false
   },
   "outputs": [],
   "source": [
    "import itertools\n",
    "\n",
    "def get_shooting_year(shooting_victim):\n",
    "    shooting_date = get_shooting_date(shooting_victim)\n",
    "    return shooting_date.year\n",
    "\n",
    "data['shooting_victims_ytd_by_year'] = []\n",
    "\n",
    "for year, grp in itertools.groupby(data['shooting_victims_ytd'], key=get_shooting_year):\n",
    "    data['shooting_victims_ytd_by_year'].append((year, list(grp)))"
   ]
  },
  {
   "cell_type": "markdown",
   "metadata": {},
   "source": [
    "## Count the victims by year"
   ]
  },
  {
   "cell_type": "code",
   "execution_count": 43,
   "metadata": {
    "collapsed": false
   },
   "outputs": [],
   "source": [
    "data['shooting_victims_ytd_by_year_totals'] = [(year, len(shooting_victims))\n",
    "                                               for year, shooting_victims\n",
    "                                               in data['shooting_victims_ytd_by_year']]"
   ]
  },
  {
   "cell_type": "code",
   "execution_count": 44,
   "metadata": {
    "collapsed": false
   },
   "outputs": [
    {
     "name": "stdout",
     "output_type": "stream",
     "text": [
      "year,num_shooting_victims\r\n",
      "2012,524\r\n",
      "2013,383\r\n",
      "2014,286\r\n",
      "2015,409\r\n",
      "2016,717\r\n"
     ]
    }
   ],
   "source": [
    "import csv\n",
    "import sys\n",
    "\n",
    "writer = csv.writer(sys.stdout)\n",
    "writer.writerow(['year', 'num_shooting_victims'])\n",
    "\n",
    "for year, num_shooting_victims in data['shooting_victims_ytd_by_year_totals']:\n",
    "    writer.writerow([year, num_shooting_victims])"
   ]
  },
  {
   "cell_type": "markdown",
   "metadata": {},
   "source": [
    "## Spot-check our numbers"
   ]
  },
  {
   "cell_type": "code",
   "execution_count": 45,
   "metadata": {
    "collapsed": false
   },
   "outputs": [],
   "source": [
    "shooting_victims_2016 = next(shooting_victims\n",
    "                             for year, shooting_victims\n",
    "                             in data['shooting_victims_ytd_by_year']\n",
    "                             if year == 2016)\n",
    "num_shooting_victims_2016 = next(num_shooting_victims\n",
    "                                 for year, num_shooting_victims\n",
    "                                 in data['shooting_victims_ytd_by_year_totals']\n",
    "                                 if year == 2016)\n",
    "today = date.today()\n",
    "num_shootings = 0\n",
    "for shooting_victim in shooting_victims_2016:\n",
    "    num_shootings += 1\n",
    "    shooting_date = get_shooting_date(shooting_victim)\n",
    "    assert shooting_date.year == 2016\n",
    "    assert shooting_date.month <= today.month\n",
    "    assert shooting_date.day <= today.day\n",
    "    \n",
    "assert num_shootings == num_shooting_victims_2016"
   ]
  },
  {
   "cell_type": "markdown",
   "metadata": {},
   "source": [
    "## What's up with that 1984 shooting?"
   ]
  },
  {
   "cell_type": "code",
   "execution_count": 46,
   "metadata": {
    "collapsed": false
   },
   "outputs": [
    {
     "ename": "StopIteration",
     "evalue": "",
     "output_type": "error",
     "traceback": [
      "\u001b[0;31m---------------------------------------------------------------------------\u001b[0m",
      "\u001b[0;31mStopIteration\u001b[0m                             Traceback (most recent call last)",
      "\u001b[0;32m<ipython-input-46-19eb35612b7b>\u001b[0m in \u001b[0;36m<module>\u001b[0;34m()\u001b[0m\n\u001b[1;32m      1\u001b[0m shooting_victims_1984 = next(shooting_victims\n\u001b[1;32m      2\u001b[0m                              \u001b[0;32mfor\u001b[0m \u001b[0myear\u001b[0m\u001b[0;34m,\u001b[0m \u001b[0mshooting_victims\u001b[0m\u001b[0;34m\u001b[0m\u001b[0m\n\u001b[0;32m----> 3\u001b[0;31m                              \u001b[0;32min\u001b[0m \u001b[0mdata\u001b[0m\u001b[0;34m[\u001b[0m\u001b[0;34m'shooting_victims_ytd_by_year'\u001b[0m\u001b[0;34m]\u001b[0m\u001b[0;34m\u001b[0m\u001b[0m\n\u001b[0m\u001b[1;32m      4\u001b[0m                              if year == 1984)\n\u001b[1;32m      5\u001b[0m \u001b[0mprint\u001b[0m\u001b[0;34m(\u001b[0m\u001b[0mshooting_victims_1984\u001b[0m\u001b[0;34m[\u001b[0m\u001b[0;36m0\u001b[0m\u001b[0;34m]\u001b[0m\u001b[0;34m[\u001b[0m\u001b[0;34m'Date'\u001b[0m\u001b[0;34m]\u001b[0m\u001b[0;34m)\u001b[0m\u001b[0;34m\u001b[0m\u001b[0m\n",
      "\u001b[0;31mStopIteration\u001b[0m: "
     ]
    }
   ],
   "source": [
    "shooting_victims_1984 = next(shooting_victims\n",
    "                             for year, shooting_victims\n",
    "                             in data['shooting_victims_ytd_by_year']\n",
    "                             if year == 1984)\n",
    "print(shooting_victims_1984[0]['Date'])\n",
    "print(shooting_victims_1984[0]['Link'])\n",
    "print(shooting_victims_1984[0]['_id'])"
   ]
  },
  {
   "cell_type": "markdown",
   "metadata": {},
   "source": [
    "Based on that article, it looks like the date should be set to 2015-01-29, not 1984-01-29"
   ]
  },
  {
   "cell_type": "code",
   "execution_count": null,
   "metadata": {
    "collapsed": true
   },
   "outputs": [],
   "source": []
  }
 ],
 "metadata": {
  "kernelspec": {
   "display_name": "Python 3",
   "language": "python",
   "name": "python3"
  },
  "language_info": {
   "codemirror_mode": {
    "name": "ipython",
    "version": 3
   },
   "file_extension": ".py",
   "mimetype": "text/x-python",
   "name": "python",
   "nbconvert_exporter": "python",
   "pygments_lexer": "ipython3",
   "version": "3.4.2"
  }
 },
 "nbformat": 4,
 "nbformat_minor": 0
}
