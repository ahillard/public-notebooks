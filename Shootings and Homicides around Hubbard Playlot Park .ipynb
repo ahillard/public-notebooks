{
 "cells": [
  {
   "cell_type": "code",
   "execution_count": 3,
   "metadata": {
    "collapsed": false
   },
   "outputs": [
    {
     "name": "stdout",
     "output_type": "stream",
     "text": [
      "Request failed. Probably because the response is huge.  We should fix this.\n",
      "Request failed. Probably because the response is huge.  We should fix this.\n",
      "Request failed. Probably because the response is huge.  We should fix this.\n",
      "Request failed. Probably because the response is huge.  We should fix this.\n",
      "Request failed. Probably because the response is huge.  We should fix this.\n",
      "Loaded 12955 shooting victims\n",
      "Loaded 1749 homicides\n"
     ]
    }
   ],
   "source": [
    "import os\n",
    "import requests\n",
    "\n",
    "def get_table_url(table_name, base_url=os.environ['NEWSROOMDB_URL']):\n",
    "    return '{}table/json/{}'.format(os.environ['NEWSROOMDB_URL'], table_name)\n",
    "\n",
    "def get_table_data(table_name):\n",
    "    url = get_table_url(table_name)\n",
    "    \n",
    "    try:\n",
    "        r = requests.get(url)\n",
    "        return r.json()\n",
    "    except:\n",
    "        print(\"Request failed. Probably because the response is huge.  We should fix this.\")\n",
    "        return get_table_data(table_name)\n",
    "\n",
    "shooting_victims = get_table_data('shootings')\n",
    "print(\"Loaded {} shooting victims\".format(len(shooting_victims)))\n",
    "homicides = get_table_data('homicides')\n",
    "print(\"Loaded {} homicides\".format(len(homicides)))"
   ]
  },
  {
   "cell_type": "code",
   "execution_count": 2,
   "metadata": {
    "collapsed": false
   },
   "outputs": [],
   "source": [
    "from shapely.geometry import shape\n",
    "\n",
    "# Ohio Street on the north, Kinzie Street on the south, Leclaire Avenue on the west, and Lamon Avenue on the east\n",
    "# I generated this GeoJSON using http://geojson.io/\n",
    "boundary_json = {\n",
    "    \"type\": \"FeatureCollection\",\n",
    "    \"features\": [\n",
    "        {\n",
    "            \"type\": \"Feature\",\n",
    "            \"properties\": {},\n",
    "            \"geometry\": {\n",
    "                \"type\": \"Polygon\",\n",
    "                \"coordinates\": [\n",
    "                    [\n",
    "                        [\n",
    "                            -87.75301694869995,\n",
    "                            41.89130427991353\n",
    "                        ],\n",
    "                        [\n",
    "                            -87.7481460571289,\n",
    "                            41.891376160028166\n",
    "                        ],\n",
    "                        [\n",
    "                            -87.74800658226013,\n",
    "                            41.88790186196206\n",
    "                        ],\n",
    "                        [\n",
    "                            -87.7528989315033,\n",
    "                            41.887837965055716\n",
    "                        ],\n",
    "                        [\n",
    "                            -87.75301694869995,\n",
    "                            41.89130427991353\n",
    "                        ]\n",
    "                    ]\n",
    "                ]\n",
    "            }\n",
    "        }\n",
    "    ]\n",
    "}\n",
    "\n",
    "boundary = shape(boundary_json['features'][0]['geometry'])"
   ]
  },
  {
   "cell_type": "code",
   "execution_count": 7,
   "metadata": {
    "collapsed": false
   },
   "outputs": [],
   "source": [
    "from shapely.geometry import Point\n",
    "\n",
    "def record_in_bounds(record, bounds, coordinate_field=\"Geocode Override\"):\n",
    "    coordinates = record['Geocode Override'][1:-1].split(',')\n",
    "    if len(coordinates) != 2:\n",
    "        return False\n",
    "    point = Point(float(coordinates[1]), float(coordinates[0]))\n",
    "    if bounds.contains(point):\n",
    "        return True\n",
    "    \n",
    "    return False\n",
    "    \n",
    "def records_in_bounds(records, bounds):\n",
    "    in_bounds = []\n",
    "    for record in records:\n",
    "        if record_in_bounds(record, bounds):\n",
    "            in_bounds.append(record)\n",
    "            \n",
    "    return in_bounds\n",
    "\n",
    "shooting_victims_within_bounds = records_in_bounds(shooting_victims, boundary)\n",
    "homicides_within_bounds = records_in_bounds(homicides, boundary)"
   ]
  },
  {
   "cell_type": "code",
   "execution_count": 16,
   "metadata": {
    "collapsed": false
   },
   "outputs": [],
   "source": [
    "import pandas as pd\n",
    "\n",
    "# Load records into Pandas data frames in case we need to do further analysis\n",
    "shooting_victims_df = pd.DataFrame.from_records(shooting_victims_within_bounds)\n",
    "homicides_df = pd.DataFrame.from_records(homicides_within_bounds)"
   ]
  },
  {
   "cell_type": "code",
   "execution_count": 18,
   "metadata": {
    "collapsed": false
   },
   "outputs": [],
   "source": [
    "# Output data to CSV to share with reporters\n",
    "shooting_victims_df.to_csv(\"hubbard_playlot_park__shooting_victims.csv\")\n",
    "homicides_df.to_csv(\"hubbard_playlot_park__homicides.csv\")"
   ]
  },
  {
   "cell_type": "code",
   "execution_count": null,
   "metadata": {
    "collapsed": true
   },
   "outputs": [],
   "source": []
  }
 ],
 "metadata": {
  "kernelspec": {
   "display_name": "Python 3",
   "language": "python",
   "name": "python3"
  },
  "language_info": {
   "codemirror_mode": {
    "name": "ipython",
    "version": 3
   },
   "file_extension": ".py",
   "mimetype": "text/x-python",
   "name": "python",
   "nbconvert_exporter": "python",
   "pygments_lexer": "ipython3",
   "version": "3.4.2"
  }
 },
 "nbformat": 4,
 "nbformat_minor": 0
}
