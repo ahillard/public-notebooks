{
 "cells": [
  {
   "cell_type": "markdown",
   "metadata": {},
   "source": [
    "First, we need to know how far back to go. We want equal number of days before and after November 18, 2014."
   ]
  },
  {
   "cell_type": "code",
   "execution_count": 1,
   "metadata": {
    "collapsed": false
   },
   "outputs": [
    {
     "name": "stdout",
     "output_type": "stream",
     "text": [
      "426 days, 0:00:00\n"
     ]
    }
   ],
   "source": [
    "from datetime import datetime, timedelta\n",
    "pivot = datetime.strptime('11/18/2014', '%m/%d/%Y')\n",
    "today = datetime.strptime('1/18/2016', '%m/%d/%Y')\n",
    "print today - pivot"
   ]
  },
  {
   "cell_type": "code",
   "execution_count": 2,
   "metadata": {
    "collapsed": false
   },
   "outputs": [
    {
     "name": "stdout",
     "output_type": "stream",
     "text": [
      "2013-09-18 00:00:00\n"
     ]
    }
   ],
   "source": [
    "period = timedelta(days=426)\n",
    "print pivot - period"
   ]
  },
  {
   "cell_type": "markdown",
   "metadata": {},
   "source": [
    "This was run on 1/26/2016, 434 days after November 18, 2014. But the Data Portal only has data up to 1/18/2016, so we want to go to 426 days before the pivot, which works out to 9/18/2013."
   ]
  },
  {
   "cell_type": "markdown",
   "metadata": {},
   "source": [
    "Now let's download the crime data for processing. We've already filtered it on the Data Portal side to make sure it only contains a) the date range we want, b) the UCRs we're interested in, and c) the beats we're interested in."
   ]
  },
  {
   "cell_type": "code",
   "execution_count": 3,
   "metadata": {
    "collapsed": false
   },
   "outputs": [
    {
     "name": "stdout",
     "output_type": "stream",
     "text": [
      "         ID Case Number                Date                 Block  IUCR  \\\n",
      "0  10381833    HZ117903 2016-01-16 13:40:00      018XX S STATE ST  0486   \n",
      "1  10381906    HZ116891 2016-01-15 16:15:00  024XX S MICHIGAN AVE  0486   \n",
      "\n",
      "  Primary Type              Description Location Description Arrest Domestic  \\\n",
      "0      BATTERY  DOMESTIC BATTERY SIMPLE            RESIDENCE   True     True   \n",
      "1      BATTERY  DOMESTIC BATTERY SIMPLE                OTHER  False     True   \n",
      "\n",
      "               ...                Ward  Community Area  FBI Code  \\\n",
      "0              ...                   3              33       08B   \n",
      "1              ...                   2              33       08B   \n",
      "\n",
      "   X Coordinate Y Coordinate  Year              Updated On   Latitude  \\\n",
      "0       1176618      1891424  2016  01/23/2016 03:54:34 PM  41.857417   \n",
      "1       1177594      1888281  2016  01/22/2016 04:00:44 PM  41.848771   \n",
      "\n",
      "   Longitude                       Location  \n",
      "0 -87.627187  (41.857417366, -87.627187001)  \n",
      "1 -87.623700  (41.848770678, -87.623699896)  \n",
      "\n",
      "[2 rows x 22 columns]\n",
      "280 crimes found\n"
     ]
    }
   ],
   "source": [
    "import pandas as pd\n",
    "url = 'https://data.cityofchicago.org/api/views/qa42-2iy9/rows.csv?accessType=DOWNLOAD'\n",
    "frame = pd.read_csv(url, parse_dates=['Date'])\n",
    "print frame.head(2)\n",
    "print '%d crimes found' % len(frame)"
   ]
  },
  {
   "cell_type": "markdown",
   "metadata": {},
   "source": [
    "Before we do anything, we should add a column for just date so we can do statistics at the level of individual dates, which is kinda what we're after."
   ]
  },
  {
   "cell_type": "code",
   "execution_count": 4,
   "metadata": {
    "collapsed": false
   },
   "outputs": [],
   "source": [
    "frame['Date Only'] = pd.to_datetime(frame['Date'].apply(lambda x: x.date()))\n",
    "pivot = pivot.date()"
   ]
  },
  {
   "cell_type": "markdown",
   "metadata": {},
   "source": [
    "Our first question: were there more crimes of all types committed before or after the pivot?"
   ]
  },
  {
   "cell_type": "code",
   "execution_count": 9,
   "metadata": {
    "collapsed": false
   },
   "outputs": [
    {
     "name": "stdout",
     "output_type": "stream",
     "text": [
      "150 crimes on or after 2014-11-18\n"
     ]
    }
   ],
   "source": [
    "print '%d crimes on or after %s' % (frame[frame['Date Only'] >= pivot].Date.count(), pivot)"
   ]
  },
  {
   "cell_type": "code",
   "execution_count": 10,
   "metadata": {
    "collapsed": false
   },
   "outputs": [
    {
     "name": "stdout",
     "output_type": "stream",
     "text": [
      "130 crimes before 2014-11-18\n"
     ]
    }
   ],
   "source": [
    "print '%d crimes before %s' % (frame[frame['Date Only'] < pivot].Date.count(), pivot)"
   ]
  },
  {
   "cell_type": "markdown",
   "metadata": {},
   "source": [
    "Now let's graph it."
   ]
  },
  {
   "cell_type": "code",
   "execution_count": 7,
   "metadata": {
    "collapsed": false
   },
   "outputs": [
    {
     "data": {
      "text/plain": [
       "<matplotlib.axes.AxesSubplot at 0x10f6390d0>"
      ]
     },
     "execution_count": 7,
     "metadata": {},
     "output_type": "execute_result"
    },
    {
     "data": {
      "image/png": "[encoded data removed]",
      "text/plain": [
       "<matplotlib.figure.Figure at 0x10c74ff10>"
      ]
     },
     "metadata": {},
     "output_type": "display_data"
    }
   ],
   "source": [
    "# Let's get nicer-looking plots. Can't use ggplot because my version of matplotlib is too old (I think).\n",
    "pd.set_option('display.mpl_style', 'default') \n",
    "pd.set_option('display.width', 10000) \n",
    "pd.set_option('display.max_columns', 60)\n",
    "# We need to specifically ask matplotlib to display plots inline\n",
    "%matplotlib inline\n",
    "import matplotlib.pyplot as plt\n",
    "frame.groupby('Date Only').count().plot(legend=None)"
   ]
  },
  {
   "cell_type": "markdown",
   "metadata": {},
   "source": [
    "Last question (for now): Did any particular type of crime spike before or after the pivot?"
   ]
  },
  {
   "cell_type": "code",
   "execution_count": 8,
   "metadata": {
    "collapsed": false
   },
   "outputs": [
    {
     "name": "stdout",
     "output_type": "stream",
     "text": [
      "0486\n",
      "108 crimes on or after 2014-11-18\n",
      "111 crimes before 2014-11-18\n",
      "---\n",
      "0530\n",
      "4 crimes on or after 2014-11-18\n",
      "1 crimes before 2014-11-18\n",
      "---\n",
      "0520\n",
      "7 crimes on or after 2014-11-18\n",
      "5 crimes before 2014-11-18\n",
      "---\n",
      "0484\n",
      "13 crimes on or after 2014-11-18\n",
      "2 crimes before 2014-11-18\n",
      "---\n",
      "051A\n",
      "8 crimes on or after 2014-11-18\n",
      "2 crimes before 2014-11-18\n",
      "---\n",
      "0545\n",
      "2 crimes on or after 2014-11-18\n",
      "3 crimes before 2014-11-18\n",
      "---\n",
      "0479\n",
      "1 crimes on or after 2014-11-18\n",
      "2 crimes before 2014-11-18\n",
      "---\n",
      "0483\n",
      "2 crimes on or after 2014-11-18\n",
      "0 crimes before 2014-11-18\n",
      "---\n",
      "0554\n",
      "4 crimes on or after 2014-11-18\n",
      "3 crimes before 2014-11-18\n",
      "---\n",
      "0550\n",
      "1 crimes on or after 2014-11-18\n",
      "0 crimes before 2014-11-18\n",
      "---\n",
      "0555\n",
      "0 crimes on or after 2014-11-18\n",
      "1 crimes before 2014-11-18\n",
      "---\n"
     ]
    }
   ],
   "source": [
    "for ucr in frame['IUCR'].unique():\n",
    "    print ucr\n",
    "    ucr_frame = frame[frame['IUCR'] == ucr]\n",
    "    print '%d crimes on or after %s' % (ucr_frame[ucr_frame['Date Only'] >= pivot].Date.count(), pivot)\n",
    "    print '%d crimes before %s' % (ucr_frame[ucr_frame['Date Only'] < pivot].Date.count(), pivot)\n",
    "    print '---'"
   ]
  }
 ],
 "metadata": {
  "kernelspec": {
   "display_name": "Python 2",
   "language": "python",
   "name": "python2"
  },
  "language_info": {
   "codemirror_mode": {
    "name": "ipython",
    "version": 2
   },
   "file_extension": ".py",
   "mimetype": "text/x-python",
   "name": "python",
   "nbconvert_exporter": "python",
   "pygments_lexer": "ipython2",
   "version": "2.7.8"
  }
 },
 "nbformat": 4,
 "nbformat_minor": 0
}
