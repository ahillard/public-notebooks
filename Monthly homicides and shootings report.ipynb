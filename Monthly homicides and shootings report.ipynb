{
 "cells": [
  {
   "cell_type": "markdown",
   "metadata": {},
   "source": [
    "First, we need to connect to NewsroomDB and download all shootings and homicides."
   ]
  },
  {
   "cell_type": "code",
   "execution_count": 22,
   "metadata": {
    "collapsed": false
   },
   "outputs": [
    {
     "name": "stdout",
     "output_type": "stream",
     "text": [
      "Found 1431 homicides and 11028 shootings\n"
     ]
    }
   ],
   "source": [
    "import os\n",
    "import requests\n",
    "\n",
    "homicides_url = '%stable/json/homicides' % os.environ['NEWSROOMDB_URL']\n",
    "shootings_url = '%stable/json/shootings' % os.environ['NEWSROOMDB_URL']\n",
    "\n",
    "try:\n",
    "    r = requests.get(homicides_url)\n",
    "    homicides = r.json()\n",
    "except:\n",
    "    r = requests.get(homicides_url)\n",
    "    homicides = r.json()\n",
    "\n",
    "try:\n",
    "    r = requests.get(shootings_url)\n",
    "    shootings = r.json()\n",
    "except:\n",
    "    r = requests.get(shootings_url)\n",
    "    shootings = r.json()\n",
    "\n",
    "print 'Found %d homicides and %d shootings' % (len(homicides), len(shootings))"
   ]
  },
  {
   "cell_type": "markdown",
   "metadata": {
    "collapsed": true
   },
   "source": [
    "Right now, we're interested in all shootings and homicides for the current month. So filter the lists based on whatever that month is."
   ]
  },
  {
   "cell_type": "code",
   "execution_count": 24,
   "metadata": {
    "collapsed": false
   },
   "outputs": [
    {
     "name": "stdout",
     "output_type": "stream",
     "text": [
      "2016:\t257 shootings\t\t47 homicides\n",
      "2015:\t145 shootings\t\t32 homicides\n",
      "2014:\t101 shootings\t\t24 homicides\n",
      "2013:\t190 shootings\t\t44 homicides\n",
      "2012:\t174 shootings\t\t0 homicides\n",
      "1984:\t1 shootings\t\t0 homicides\n"
     ]
    }
   ],
   "source": [
    "from datetime import date, datetime\n",
    "today = date.today()\n",
    "\n",
    "homicides_this_month = {}\n",
    "for h in homicides:\n",
    "    try:\n",
    "        dt = datetime.strptime(h['Occ Date'], '%Y-%m-%d')\n",
    "    except ValueError:\n",
    "        continue\n",
    "    if dt.month == today.month:\n",
    "        if dt.year not in homicides_this_month:\n",
    "            homicides_this_month[dt.year] = []\n",
    "        homicides_this_month[dt.year].append(h)\n",
    "\n",
    "shootings_this_month = {}\n",
    "for s in shootings:\n",
    "    try:\n",
    "        dt = datetime.strptime(s['Date'], '%Y-%m-%d')\n",
    "    except ValueError:\n",
    "        continue\n",
    "    if dt.month == today.month:\n",
    "        if dt.year not in shootings_this_month:\n",
    "            shootings_this_month[dt.year] = []\n",
    "        shootings_this_month[dt.year].append(s)\n",
    "\n",
    "for year in sorted(shootings_this_month.keys(), reverse=True):\n",
    "    try:\n",
    "        s = len(shootings_this_month[year])\n",
    "    except:\n",
    "        s = 0\n",
    "    try:\n",
    "        h = len(homicides_this_month[year])\n",
    "    except:\n",
    "        h = 0\n",
    "    print '%d:\\t%d shootings\\t\\t%d homicides' % (year, s, h)"
   ]
  },
  {
   "cell_type": "code",
   "execution_count": null,
   "metadata": {
    "collapsed": true
   },
   "outputs": [],
   "source": []
  }
 ],
 "metadata": {
  "kernelspec": {
   "display_name": "Python 2",
   "language": "python",
   "name": "python2"
  },
  "language_info": {
   "codemirror_mode": {
    "name": "ipython",
    "version": 2
   },
   "file_extension": ".py",
   "mimetype": "text/x-python",
   "name": "python",
   "nbconvert_exporter": "python",
   "pygments_lexer": "ipython2",
   "version": "2.7.8"
  }
 },
 "nbformat": 4,
 "nbformat_minor": 0
}
