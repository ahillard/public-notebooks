{
 "cells": [
  {
   "cell_type": "markdown",
   "metadata": {},
   "source": [
    "For making the map [Lead testing misses likely problem areas\n",
    "](http://www.chicagotribune.com/news/ct-lead-water-testing-map-htmlstory.html) Abe used a proprietary JSON format for the water main street segements.  Convert this data to GeoJSON so reporters can load the layer into desktop GIS software."
   ]
  },
  {
   "cell_type": "code",
   "execution_count": 11,
   "metadata": {
    "collapsed": false
   },
   "outputs": [
    {
     "name": "stdout",
     "output_type": "stream",
     "text": [
      "/Users/ghing/workspace/public-notebooks/street_segments.geojson\n"
     ]
    }
   ],
   "source": [
    "STREET_SEGMENT_DATA_URL = \"http://graphics.chicagotribune.com/lead-water/data/geocoded_water_projects.json\"\n",
    "\n",
    "# Download the data\n",
    "\n",
    "import requests\n",
    "r = requests.get(STREET_SEGMENT_DATA_URL)\n",
    "street_segments = r.json()\n",
    "\n",
    "# Convert to GeoJSON\n",
    "\n",
    "def point_geometry(segment):\n",
    "    return {\n",
    "        'type': 'Point',\n",
    "        'coordinates': [segment['points'][0]['lng'], segment['points'][0]['lat']],\n",
    "    }\n",
    "\n",
    "def linestring_geometry(segment):\n",
    "    return {\n",
    "        'type': 'LineString',\n",
    "        'coordinates':  [\n",
    "            [segment['points'][0]['lng'], segment['points'][0]['lat'],],\n",
    "            [segment['points'][1]['lng'], segment['points'][1]['lat'],],\n",
    "        ],\n",
    "    }\n",
    "\n",
    "def to_geojson(segment):\n",
    "    assert segment['type'] in ('line', 'point'), segment['type']\n",
    "    assert len(segment['points']) >= 1 and len(segment['points']) <= 2\n",
    "    segment_geojson = {\n",
    "        'type': 'Feature',\n",
    "        'properties': {\n",
    "            'from': segment['From'],\n",
    "            'to': segment['To'],\n",
    "            'project_number': segment['Project #'],\n",
    "            'pipe_completion_date': segment['Pipe Completion Date'],\n",
    "            'location': segment['Location'],\n",
    "            'construction_start_date': segment['Construction Start Date'],\n",
    "            'year': segment['Year'],\n",
    "            'description': segment['description'],\n",
    "        },\n",
    "        'geometry': linestring_geometry(segment) if segment['type'] == 'line' else point_geometry(segment),\n",
    "    }\n",
    "    \n",
    "    return segment_geojson\n",
    "    \n",
    "street_segements_geojson = {\n",
    "    'type': 'FeatureCollection',\n",
    "    'features': [to_geojson(ss) for ss in street_segments],\n",
    "}\n",
    "\n",
    "# Output JSON string\n",
    "import json\n",
    "import os \n",
    "\n",
    "working_dir = os.getcwd()\n",
    "output_path = os.path.join(working_dir, 'street_segments.geojson')\n",
    "\n",
    "with open(output_path, 'w') as f:\n",
    "    f.write(json.dumps(street_segements_geojson))\n",
    "    print(\"Wrote {0}\".format(output_path))"
   ]
  },
  {
   "cell_type": "code",
   "execution_count": null,
   "metadata": {
    "collapsed": true
   },
   "outputs": [],
   "source": []
  }
 ],
 "metadata": {
  "kernelspec": {
   "display_name": "Python 3",
   "language": "python",
   "name": "python3"
  },
  "language_info": {
   "codemirror_mode": {
    "name": "ipython",
    "version": 3
   },
   "file_extension": ".py",
   "mimetype": "text/x-python",
   "name": "python",
   "nbconvert_exporter": "python",
   "pygments_lexer": "ipython3",
   "version": "3.4.2"
  }
 },
 "nbformat": 4,
 "nbformat_minor": 0
}
