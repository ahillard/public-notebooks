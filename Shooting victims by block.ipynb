{
 "cells": [
  {
   "cell_type": "markdown",
   "metadata": {},
   "source": [
    "# Shooting victims by block\n",
    "\n",
    "Which Chicago block has the most shooting victims so far this year?"
   ]
  },
  {
   "cell_type": "markdown",
   "metadata": {},
   "source": [
    "## Fetch the data from NewsroomDB\n",
    "\n",
    "NewsroomDB is the Tribune's proprietary database for tracking data that needs to be manually entered and validated rather than something that can be ingested from an official source.  It's mostly used to track shooting victims and homicides.  As far as I know, CPD doesn't provide granular data on shooting victims and the definition of homicide can be tricky (and vary from source to source).\n",
    "\n",
    "We'll grab shooting victims from the `shootings` collection."
   ]
  },
  {
   "cell_type": "code",
   "execution_count": 31,
   "metadata": {
    "collapsed": false
   },
   "outputs": [
    {
     "name": "stdout",
     "output_type": "stream",
     "text": [
      "Loaded 11713 shooting victims\n"
     ]
    }
   ],
   "source": [
    "import os\n",
    "import requests\n",
    "\n",
    "def get_table_url(table_name, base_url=os.environ['NEWSROOMDB_URL']):\n",
    "    return '{}table/json/{}'.format(os.environ['NEWSROOMDB_URL'], table_name)\n",
    "\n",
    "def get_table_data(table_name):\n",
    "    url = get_table_url(table_name)\n",
    "    \n",
    "    try:\n",
    "        r = requests.get(url)\n",
    "        return r.json()\n",
    "    except:\n",
    "        print(\"Request failed. Probably because the response is huge.  We should fix this.\")\n",
    "        return get_table_data(table_name)\n",
    "\n",
    "shooting_victims = get_table_data('shootings')\n",
    "\n",
    "print(\"Loaded {} shooting victims\".format(len(data['shooting_victims'])))"
   ]
  },
  {
   "cell_type": "markdown",
   "metadata": {},
   "source": [
    "## Filter to only shootings this year"
   ]
  },
  {
   "cell_type": "code",
   "execution_count": 32,
   "metadata": {
    "collapsed": false
   },
   "outputs": [
    {
     "name": "stdout",
     "output_type": "stream",
     "text": [
      "Could not parse date for shooting victim with RD Number HX448309\n",
      "Could not parse date for shooting victim with record ID 560bc169db573e1c2c67789e\n",
      "Could not parse date for shooting victim with record ID 565d8490389ce82a2a5b07dc\n",
      "Could not parse date for shooting victim with record ID 56d6c55e389ce82a2a5b09ac\n",
      "Could not parse date for shooting victim with record ID 536b0f4edb573e257039a258\n",
      "Could not parse date for shooting victim with record ID 53693edc389ce83e25cd4823\n",
      "Could not parse date for shooting victim with record ID 536cf216db573e256fa3af22\n",
      "Could not parse date for shooting victim with record ID 53ac49c8389ce835c90b18b9\n",
      "Could not parse date for shooting victim with record ID 536cf773389ce835c8d88b28\n",
      "Could not parse date for shooting victim with record ID 5421c1c1db573e3dc9db2e98\n",
      "Could not parse date for shooting victim with RD Number HX445856\n",
      "Could not parse date for shooting victim with RD Number HX447455\n",
      "Could not parse date for shooting victim with RD Number HY182250\n",
      "Could not parse date for shooting victim with record ID 552c0a0f389ce8650e9a9916\n",
      "Could not parse date for shooting victim with record ID 55c79ce6389ce865f1892777\n",
      "Could not parse date for shooting victim with RD Number HY369178\n",
      "Could not parse date for shooting victim with record ID 565d882edb573e070ae4c259\n",
      "Could not parse date for shooting victim with record ID 565da430389ce82a2bd86b3b\n",
      "Could not parse date for shooting victim with record ID 56e09073389ce82a2a5b09d1\n"
     ]
    }
   ],
   "source": [
    "from datetime import date, datetime\n",
    "\n",
    "def get_shooting_date(shooting_victim):\n",
    "    return datetime.strptime(shooting_victim['Date'], '%Y-%m-%d')\n",
    "\n",
    "def shooting_is_this_year(shooting_victim, today):\n",
    "    try:\n",
    "        shooting_date = get_shooting_date(shooting_victim)\n",
    "    except ValueError:\n",
    "        if shooting_victim['RD Number']:\n",
    "            msg = \"Could not parse date for shooting victim with RD Number {}\".format(\n",
    "                shooting_victim['RD Number'])\n",
    "        else:\n",
    "            msg = \"Could not parse date for shooting victim with record ID {}\".format(\n",
    "                shooting_victim['_id'])\n",
    "        \n",
    "        print(msg)\n",
    "        return False\n",
    "        \n",
    "    return shooting_date.year == today.year\n",
    "\n",
    "today = date.today()\n",
    "\n",
    "# Use a list comprehension to filter the shooting victims to ones that\n",
    "# occured on or before today's month and day.\n",
    "# Also sort by date because it makes it easier to group by year\n",
    "shooting_victims_this_year = sorted([sv for sv in shooting_victims\n",
    "                                       if shooting_is_this_year(sv, today)],\n",
    "                                      key=get_shooting_date)"
   ]
  },
  {
   "cell_type": "markdown",
   "metadata": {},
   "source": [
    "## Get the block address"
   ]
  },
  {
   "cell_type": "code",
   "execution_count": 37,
   "metadata": {
    "collapsed": false
   },
   "outputs": [
    {
     "name": "stdout",
     "output_type": "stream",
     "text": [
      "Record with RD number  has no location.\n",
      "Record with RD number  has no location.\n"
     ]
    }
   ],
   "source": [
    "import re\n",
    "\n",
    "def blockify(address):\n",
    "    \"\"\"\n",
    "    Convert a street address to a block level address\n",
    "    \n",
    "    Example:\n",
    "    \n",
    "    >>> blockify(\"1440 W 84th St, Chicago, IL 60620\")\n",
    "    '1400 W 84th St, Chicago, IL 60620'\n",
    "    \n",
    "    \"\"\"\n",
    "    m = re.search(r'^(?P<address_number>\\d+) ', address)\n",
    "    address_number = m.group('address_number')\n",
    "    block_address_number = (int(address_number) // 100) * 100\n",
    "    return address.replace(address_number, str(block_address_number))\n",
    "    \n",
    "\n",
    "def add_block(sv):\n",
    "    \"\"\"Make a copy of a shooting victim record with an added block field\"\"\"\n",
    "    with_block = dict(**sv)\n",
    "    \n",
    "    if not sv['Shooting Location']:\n",
    "        # No location, just set block to none\n",
    "        print(\"Record with RD number {0} has no location.\".format(\n",
    "            sv['RD Number']))\n",
    "        with_block['block'] = None\n",
    "        return with_block\n",
    "            \n",
    "    if sv['Shooting Specificity'] == 'Exact':\n",
    "        # Address is exact, convert to 100-block\n",
    "        with_block['block'] = blockify(sv['Shooting Location'])\n",
    "    else:\n",
    "        # Address is already block. Use it\n",
    "        with_block['block'] = sv['Shooting Location']\n",
    "        \n",
    "    return with_block\n",
    "\n",
    "# Create a list of shooting victim dictionaries with blocks\n",
    "shooting_victims_this_year_with_block = [add_block(sv) for sv in shooting_victims_this_year]"
   ]
  },
  {
   "cell_type": "markdown",
   "metadata": {},
   "source": [
    "## Count victims by block "
   ]
  },
  {
   "cell_type": "code",
   "execution_count": 45,
   "metadata": {
    "collapsed": false
   },
   "outputs": [
    {
     "data": {
      "text/plain": [
       "block\n",
       "4400 W Monroe St, Chicago, IL 60624                  6\n",
       "7000 S Paxton Ave, Chicago, IL 60649                 5\n",
       "1500 S Kedzie Ave, Chicago, IL 60623                 5\n",
       "6800 S Throop St, Chicago, IL 60636                  4\n",
       "6500 S Green St, Chicago, IL 60621                   4\n",
       "3700 W Polk St, Chicago, IL 60624                    4\n",
       "4300 W Wilcox St, Chicago, IL 60624                  4\n",
       "5700 W Washington Blvd, Chicago, IL 60644            4\n",
       "E 48th St & King Dr, Chicago, IL 60615               4\n",
       "5500 W Congress Pkwy, Chicago, IL 60644              4\n",
       "4600 W West End Ave, Chicago, IL 60644               4\n",
       "3700 W Division St, Chicago, IL 60651                3\n",
       "3700 W Grenshaw St, Chicago, IL 60624                3\n",
       "3800 South Princeton, Chicago, IL                    3\n",
       "3900 W Thomas St, Chicago, IL 60651                  3\n",
       "4000 W 18th St, Chicago, IL 60623                    3\n",
       "4100 W 25th St, Chicago, IL 60623                    3\n",
       "4100 W Adams St, Chicago, IL 60624                   3\n",
       "W Chicago Ave & N St Louis Ave, Chicago, IL 60651    3\n",
       "500 S Lavergne Ave, Chicago, IL 60644                3\n",
       "500 S Kostner Ave, Chicago, IL 60624                 3\n",
       "1900 W Belle Plaine Ave, Chicago, IL 60613           3\n",
       "5718 S Green St, Chicago, IL 60621                   3\n",
       "800 N St Louis Ave, Chicago, IL 60651                3\n",
       "600 N Lake Shore Dr, Chicago, IL 60611               3\n",
       "800 N Central Park Ave, Chicago, IL 60651            3\n",
       "6400 S Eggleston Ave, Chicago, IL 60621              3\n",
       "6800 S Lawndale Ave, Chicago, IL 60629               3\n",
       "7500 S State St, Chicago, IL 60619                   3\n",
       "200 N Pulaski Rd, Chicago, IL 60624                  3\n",
       "                                                    ..\n",
       "4800 S Bishop St, Chicago, IL 60609                  1\n",
       "4800 N. Lake Shore Drive                             1\n",
       "8300 S Stewart Ave, Chicago, IL 60620                1\n",
       "4700 W Jackson Blvd, Chicago, IL 60644               1\n",
       "4700 W Huron St, Chicago, IL 60644                   1\n",
       "8300 S Winchester Ave, Chicago, IL 60620             1\n",
       "4700 S Vincennes Ave, Chicago, IL 60615              1\n",
       "4700 S Laflin St, Chicago, IL 60609                  1\n",
       "4700 S Hamlin Ave, Chicago, IL 60632                 1\n",
       "4700 S Federal St, Chicago, IL 60609                 1\n",
       "8300 S Lafayette Ave, Chicago, IL 60620              1\n",
       "4900 N Harding Ave, Chicago, IL 60625                1\n",
       "500 W Kinzie St, Chicago, IL 60654                   1\n",
       "4900 S Laflin St, Chicago, IL 60609                  1\n",
       "8300 S Cottage Grove Ave, Chicago, IL 60619          1\n",
       "8300 S Houston Ave, Chicago, IL 60617                1\n",
       "500 S Cicero Ave, Chicago, IL 60644                  1\n",
       "500 S California Ave, Chicago, IL 60612              1\n",
       "500 N Mayfield Ave, Chicago, IL 60644                1\n",
       "500 N Lawler Ave, Chicago, IL 60644                  1\n",
       "500 E Grand Ave, Chicago, IL 60611                   1\n",
       "500 E 33rd St, Chicago, IL 60616                     1\n",
       "500 E 115th St, Chicago, IL 60628                    1\n",
       "8300 S Justine St, Chicago, IL 60620                 1\n",
       "50 S Leamington Ave, Chicago, IL 60644               1\n",
       "4900 W Madison St, Chicago, IL 60644                 1\n",
       "4900 W Division St, Chicago, IL 60651                1\n",
       "4900 W Augusta Blvd, Chicago, IL 60651               1\n",
       "4900 W Adams St, Chicago, IL 60644                   1\n",
       "4600 N Central Park Ave, Chicago, IL 60625           1\n",
       "dtype: int64"
      ]
     },
     "execution_count": 45,
     "metadata": {},
     "output_type": "execute_result"
    }
   ],
   "source": [
    "import pandas as pd\n",
    "\n",
    "# Load shooting victims into a dataframe,\n",
    "# filtering out victim records for which we couldn't determine the block\n",
    "shooting_victims_this_year_df = pd.DataFrame([sv for sv in shooting_victims_this_year_with_block if sv['block'] is not None])\n",
    "\n",
    "# Group by block\n",
    "shooting_victims_this_year_by_block = shooting_victims_this_year_df.groupby('block').size().sort_values(ascending=False)\n",
    "shooting_victims_this_year_by_block"
   ]
  },
  {
   "cell_type": "code",
   "execution_count": 48,
   "metadata": {
    "collapsed": false
   },
   "outputs": [],
   "source": [
    "# Output to a CSV file so I can email to the reporter who requested it\n",
    "shooting_victims_this_year_by_block.to_csv(\"shooting_victims_by_block.csv\")"
   ]
  },
  {
   "cell_type": "code",
   "execution_count": null,
   "metadata": {
    "collapsed": true
   },
   "outputs": [],
   "source": []
  }
 ],
 "metadata": {
  "kernelspec": {
   "display_name": "Python 3",
   "language": "python",
   "name": "python3"
  },
  "language_info": {
   "codemirror_mode": {
    "name": "ipython",
    "version": 3
   },
   "file_extension": ".py",
   "mimetype": "text/x-python",
   "name": "python",
   "nbconvert_exporter": "python",
   "pygments_lexer": "ipython3",
   "version": "3.4.2"
  }
 },
 "nbformat": 4,
 "nbformat_minor": 0
}
