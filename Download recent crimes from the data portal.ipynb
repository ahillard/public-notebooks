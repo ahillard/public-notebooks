{
 "cells": [
  {
   "cell_type": "markdown",
   "metadata": {},
   "source": [
    "We're going to download recent [crimes from the City of Chicago's data portal](https://data.cityofchicago.org/Public-Safety/Crimes-2001-to-present/ijzp-q8t2).  "
   ]
  },
  {
   "cell_type": "markdown",
   "metadata": {},
   "source": [
    "Ultimately, we're going to construct a query using the REST API of Socrata, the service/software used to host the city's data.  This data set has changed in the past, so before we build our query, let's get a list of the column names so we can figure out which column to filter on to find recent crimes."
   ]
  },
  {
   "cell_type": "code",
   "execution_count": null,
   "metadata": {
    "collapsed": true
   },
   "outputs": [],
   "source": [
    "import json\n",
    "\n",
    "import requests\n",
    "\n",
    "CRIME_SOCRATA_VIEW_ID = 'ijzp-q8t2'\n",
    "\n",
    "def get_data_portal_url(view_id):\n",
    "    return 'http://data.cityofchicago.org/api/views/{view_id}'.format(\n",
    "      view_id=view_id)\n",
    "\n",
    "def get_dataset_columns(view_id):\n",
    "    \"\"\"\n",
    "    Get dataset field names from the Socrata API\n",
    "\n",
    "    Returns:\n",
    "        A dictionary that acts as a lookup table from column ID to column name\n",
    "\n",
    "    \"\"\"\n",
    "    url = get_data_portal_url(view_id)\n",
    "    meta_response = requests.get(url)\n",
    "    if not meta_response.ok:\n",
    "        meta_response.raise_for_status()\n",
    "\n",
    "    meta = meta_response.json()\n",
    "    return {c['id']: c['name'] for c in meta['columns']}\n",
    "\n",
    "columns = get_dataset_columns(CRIME_SOCRATA_VIEW_ID)\n",
    "\n",
    "for column_id, name in columns.items():\n",
    "    print(\"{}: {}\".format(column_id, name))"
   ]
  },
  {
   "cell_type": "markdown",
   "metadata": {},
   "source": [
    "It looks like the column named \"Date\" with an ID of \"154418879\" is the one we want."
   ]
  },
  {
   "cell_type": "code",
   "execution_count": 9,
   "metadata": {
    "collapsed": false
   },
   "outputs": [
    {
     "name": "stdout",
     "output_type": "stream",
     "text": [
      "Date column ID: 154418879\n"
     ]
    }
   ],
   "source": [
    "date_column_id, date_column_name = next((i, n) for i, n in columns.items() if n.lower() == \"date\")\n",
    "print(\"Date column ID: {}\".format(date_column_id))"
   ]
  },
  {
   "cell_type": "markdown",
   "metadata": {},
   "source": [
    "The response data contains column IDs rather than column names.  Let's build a lookup table to convert them later, and a helper function to \"fix\" our rows that we get from the API."
   ]
  },
  {
   "cell_type": "code",
   "execution_count": 30,
   "metadata": {
    "collapsed": false
   },
   "outputs": [
    {
     "name": "stdout",
     "output_type": "stream",
     "text": [
      "{'154418877': 'id',\n",
      " '154418878': 'case_number',\n",
      " '154418879': 'date',\n",
      " '154418880': 'block',\n",
      " '154418881': 'iucr',\n",
      " '154418882': 'primary_type',\n",
      " '154418883': 'description',\n",
      " '154418884': 'location_description',\n",
      " '154418885': 'arrest',\n",
      " '154418886': 'domestic',\n",
      " '154418887': 'beat',\n",
      " '154418888': 'district',\n",
      " '154418889': 'ward',\n",
      " '154418890': 'community_area',\n",
      " '154418891': 'fbi_code',\n",
      " '154418892': 'x_coordinate',\n",
      " '154418893': 'y_coordinate',\n",
      " '154418894': 'year',\n",
      " '154418895': 'updated_on',\n",
      " '154418896': 'latitude',\n",
      " '154418897': 'longitude',\n",
      " '154418898': 'location'}\n"
     ]
    }
   ],
   "source": [
    "def slugify(s, replacement='_'):\n",
    "    return s.replace(' ', replacement).lower()\n",
    "\n",
    "def get_clean_column_lookup(column_lookup):\n",
    "    return {str(i): slugify(n) for i, n in column_lookup.items()}\n",
    "\n",
    "human_columns = get_clean_column_lookup(columns)\n",
    "import pprint\n",
    "pprint.pprint(human_columns)\n",
    "\n",
    "def humanize_columns(row, column_lookup):\n",
    "    humanized = {}\n",
    "    for column_id, value in row.items():\n",
    "        try:\n",
    "            humanized[column_lookup[column_id]] = value\n",
    "        except KeyError:\n",
    "            humanized[column_id] = value\n",
    "    \n",
    "    return humanized"
   ]
  },
  {
   "cell_type": "markdown",
   "metadata": {},
   "source": [
    "Let's build a query for the Socrata API."
   ]
  },
  {
   "cell_type": "code",
   "execution_count": 11,
   "metadata": {
    "collapsed": false
   },
   "outputs": [
    {
     "name": "stdout",
     "output_type": "stream",
     "text": [
      "The query looks like this: \n",
      "{'name': 'inline filter',\n",
      " 'originalViewId': 'ijzp-q8t2',\n",
      " 'query': {'filterCondition': {'children': [{'children': [{'columnId': 154418879,\n",
      "                                                           'type': 'column'},\n",
      "                                                          {'type': 'literal',\n",
      "                                                           'value': '2016-03-06'}],\n",
      "                                             'type': 'operator',\n",
      "                                             'value': 'GREATER_THAN'}],\n",
      "                               'type': 'operator',\n",
      "                               'value': 'AND'}}}\n"
     ]
    }
   ],
   "source": [
    "from datetime import date, timedelta\n",
    "\n",
    "def build_query(since_date, date_column_id, view_id):\n",
    "    \"\"\"\n",
    "    Get a Socrata API query for all records updated after the last update\n",
    "\n",
    "    Args:\n",
    "       since_date (datetine.date): date object. All crimes since this date will be retrieved.\n",
    "       date_column_id (str): String containing the column ID for the dates we'll filter on\n",
    "       view_id (str): Socrata view ID for this dataset\n",
    "\n",
    "    Returns:\n",
    "        Dictionary that can be serialized into a JSON sring used as the POST\n",
    "        body to the Socrata API\n",
    "\n",
    "    \"\"\"\n",
    "\n",
    "    query = {\n",
    "        'originalViewId': view_id,\n",
    "        'name': 'inline filter',\n",
    "        'query' : {\n",
    "            'filterCondition': {\n",
    "                'type': 'operator',\n",
    "                'value': 'AND',\n",
    "                'children' : [{\n",
    "                    'type' : 'operator',\n",
    "                    'value' : 'GREATER_THAN',\n",
    "                    'children': [{\n",
    "                        'columnId' : date_column_id,\n",
    "                        'type' : 'column',\n",
    "                    }, {\n",
    "                        'type' : 'literal',\n",
    "                        'value' : since_date.strftime('%Y-%m-%d'),\n",
    "                    }],\n",
    "                }],\n",
    "            },\n",
    "        }\n",
    "    }\n",
    "    return query\n",
    "\n",
    "# Months are different lenghts.  Let's just find the date 30 days ago\n",
    "today = date.today()\n",
    "date_30_days_ago = today - timedelta(days=30)\n",
    "query = build_query(date_30_days_ago, date_column_id, CRIME_SOCRATA_VIEW_ID)\n",
    "\n",
    "import pprint\n",
    "print(\"The query looks like this: \")\n",
    "pprint.pprint(query)"
   ]
  },
  {
   "cell_type": "markdown",
   "metadata": {},
   "source": [
    "Now let's request the data from the API, using our query"
   ]
  },
  {
   "cell_type": "code",
   "execution_count": 32,
   "metadata": {
    "collapsed": false
   },
   "outputs": [
    {
     "name": "stderr",
     "output_type": "stream",
     "text": [
      "/Users/ghing/venvs/public-notebooks/lib/python3.4/site-packages/requests/packages/urllib3/connectionpool.py:791: InsecureRequestWarning: Unverified HTTPS request is being made. Adding certificate verification is strongly advised. See: https://urllib3.readthedocs.org/en/latest/security.html\n",
      "  InsecureRequestWarning)\n",
      "/Users/ghing/venvs/public-notebooks/lib/python3.4/site-packages/requests/packages/urllib3/connectionpool.py:791: InsecureRequestWarning: Unverified HTTPS request is being made. Adding certificate verification is strongly advised. See: https://urllib3.readthedocs.org/en/latest/security.html\n",
      "  InsecureRequestWarning)\n",
      "/Users/ghing/venvs/public-notebooks/lib/python3.4/site-packages/requests/packages/urllib3/connectionpool.py:791: InsecureRequestWarning: Unverified HTTPS request is being made. Adding certificate verification is strongly advised. See: https://urllib3.readthedocs.org/en/latest/security.html\n",
      "  InsecureRequestWarning)\n",
      "/Users/ghing/venvs/public-notebooks/lib/python3.4/site-packages/requests/packages/urllib3/connectionpool.py:791: InsecureRequestWarning: Unverified HTTPS request is being made. Adding certificate verification is strongly advised. See: https://urllib3.readthedocs.org/en/latest/security.html\n",
      "  InsecureRequestWarning)\n",
      "/Users/ghing/venvs/public-notebooks/lib/python3.4/site-packages/requests/packages/urllib3/connectionpool.py:791: InsecureRequestWarning: Unverified HTTPS request is being made. Adding certificate verification is strongly advised. See: https://urllib3.readthedocs.org/en/latest/security.html\n",
      "  InsecureRequestWarning)\n",
      "/Users/ghing/venvs/public-notebooks/lib/python3.4/site-packages/requests/packages/urllib3/connectionpool.py:791: InsecureRequestWarning: Unverified HTTPS request is being made. Adding certificate verification is strongly advised. See: https://urllib3.readthedocs.org/en/latest/security.html\n",
      "  InsecureRequestWarning)\n",
      "/Users/ghing/venvs/public-notebooks/lib/python3.4/site-packages/requests/packages/urllib3/connectionpool.py:791: InsecureRequestWarning: Unverified HTTPS request is being made. Adding certificate verification is strongly advised. See: https://urllib3.readthedocs.org/en/latest/security.html\n",
      "  InsecureRequestWarning)\n",
      "/Users/ghing/venvs/public-notebooks/lib/python3.4/site-packages/requests/packages/urllib3/connectionpool.py:791: InsecureRequestWarning: Unverified HTTPS request is being made. Adding certificate verification is strongly advised. See: https://urllib3.readthedocs.org/en/latest/security.html\n",
      "  InsecureRequestWarning)\n",
      "/Users/ghing/venvs/public-notebooks/lib/python3.4/site-packages/requests/packages/urllib3/connectionpool.py:791: InsecureRequestWarning: Unverified HTTPS request is being made. Adding certificate verification is strongly advised. See: https://urllib3.readthedocs.org/en/latest/security.html\n",
      "  InsecureRequestWarning)\n",
      "/Users/ghing/venvs/public-notebooks/lib/python3.4/site-packages/requests/packages/urllib3/connectionpool.py:791: InsecureRequestWarning: Unverified HTTPS request is being made. Adding certificate verification is strongly advised. See: https://urllib3.readthedocs.org/en/latest/security.html\n",
      "  InsecureRequestWarning)\n",
      "/Users/ghing/venvs/public-notebooks/lib/python3.4/site-packages/requests/packages/urllib3/connectionpool.py:791: InsecureRequestWarning: Unverified HTTPS request is being made. Adding certificate verification is strongly advised. See: https://urllib3.readthedocs.org/en/latest/security.html\n",
      "  InsecureRequestWarning)\n",
      "/Users/ghing/venvs/public-notebooks/lib/python3.4/site-packages/requests/packages/urllib3/connectionpool.py:791: InsecureRequestWarning: Unverified HTTPS request is being made. Adding certificate verification is strongly advised. See: https://urllib3.readthedocs.org/en/latest/security.html\n",
      "  InsecureRequestWarning)\n",
      "/Users/ghing/venvs/public-notebooks/lib/python3.4/site-packages/requests/packages/urllib3/connectionpool.py:791: InsecureRequestWarning: Unverified HTTPS request is being made. Adding certificate verification is strongly advised. See: https://urllib3.readthedocs.org/en/latest/security.html\n",
      "  InsecureRequestWarning)\n",
      "/Users/ghing/venvs/public-notebooks/lib/python3.4/site-packages/requests/packages/urllib3/connectionpool.py:791: InsecureRequestWarning: Unverified HTTPS request is being made. Adding certificate verification is strongly advised. See: https://urllib3.readthedocs.org/en/latest/security.html\n",
      "  InsecureRequestWarning)\n",
      "/Users/ghing/venvs/public-notebooks/lib/python3.4/site-packages/requests/packages/urllib3/connectionpool.py:791: InsecureRequestWarning: Unverified HTTPS request is being made. Adding certificate verification is strongly advised. See: https://urllib3.readthedocs.org/en/latest/security.html\n",
      "  InsecureRequestWarning)\n",
      "/Users/ghing/venvs/public-notebooks/lib/python3.4/site-packages/requests/packages/urllib3/connectionpool.py:791: InsecureRequestWarning: Unverified HTTPS request is being made. Adding certificate verification is strongly advised. See: https://urllib3.readthedocs.org/en/latest/security.html\n",
      "  InsecureRequestWarning)\n"
     ]
    }
   ],
   "source": [
    "import json\n",
    "import requests\n",
    "\n",
    "def get_rows_url(start, count):\n",
    "    url_tpl = \"https://data.cityofchicago.org/api/views/INLINE/rows.json?method=getRows&start={start}&length={length}\"\n",
    "    return url_tpl.format(\n",
    "      start=start,\n",
    "      length=count\n",
    "    )\n",
    "\n",
    "def get_rows(query, start=0, count=1000):\n",
    "    url = get_rows_url(start, count)\n",
    "    headers = { 'content-type' : 'application/json' }\n",
    "    response = requests.post(url, data=json.dumps(query), headers=headers, verify=False)\n",
    "    return response.json()\n",
    "    \n",
    "def transform_row(row, transforms):\n",
    "    transformed_row = row\n",
    "    for transform in transforms:\n",
    "        transformed_row = transform(transformed_row)\n",
    "    \n",
    "    return transformed_row\n",
    "    \n",
    "def get_all_rows(query, transforms=[]):\n",
    "    continue_fetching = True\n",
    "    page_size = 1000\n",
    "    start = 0\n",
    "    \n",
    "    while continue_fetching:\n",
    "        rows = get_rows(query, start, page_size)\n",
    "        if len(rows) < page_size:\n",
    "            continue_fetching = False\n",
    "            \n",
    "        start += page_size\n",
    "        \n",
    "        for row in rows:\n",
    "            yield(transform_row(row, transforms))\n",
    "        \n",
    "crimes = list(get_all_rows(query, transforms=[lambda r: humanize_columns(r, human_columns)]))    "
   ]
  },
  {
   "cell_type": "code",
   "execution_count": 37,
   "metadata": {
    "collapsed": false
   },
   "outputs": [
    {
     "name": "stdout",
     "output_type": "stream",
     "text": [
      "There are 15505 crimes since 2016-03-06\n",
      "The first one looks like: \n",
      "{'arrest': False,\n",
      " 'beat': '0711',\n",
      " 'block': '055XX S WELLS ST',\n",
      " 'case_number': 'HZ176211',\n",
      " 'community_area': '68',\n",
      " 'created_at': 1457954936,\n",
      " 'created_meta': '878752',\n",
      " 'date': '2016-03-06T00:20:00',\n",
      " 'description': 'COUNTERFEITING DOCUMENT',\n",
      " 'district': '007',\n",
      " 'domestic': False,\n",
      " 'fbi_code': '10',\n",
      " 'id': 'ACB1B918-2EB2-40A4-B826-2A6FAD0EEC87',\n",
      " 'iucr': '1121',\n",
      " 'latitude': '41.794088699',\n",
      " 'location': {'human_address': '{\"address\":\"\",\"city\":\"\",\"state\":\"\",\"zip\":\"\"}',\n",
      "              'latitude': '41.794088699',\n",
      "              'longitude': '-87.631799109',\n",
      "              'needs_recoding': False},\n",
      " 'location_description': 'GAS STATION',\n",
      " 'longitude': '-87.631799109',\n",
      " 'position': 12529105,\n",
      " 'primary_type': 'DECEPTIVE PRACTICE',\n",
      " 'sid': 12529105,\n",
      " 'updated_at': 1457954936,\n",
      " 'updated_meta': '878752',\n",
      " 'updated_on': '2016-03-13T15:49:08',\n",
      " 'ward': '3',\n",
      " 'x_coordinate': '1175550',\n",
      " 'y_coordinate': '1868337',\n",
      " 'year': '2016'}\n"
     ]
    }
   ],
   "source": [
    "import pprint\n",
    "\n",
    "print(\"There are {} crimes since {}\".format(len(crimes), date_30_days_ago.strftime(\"%Y-%m-%d\")))\n",
    "\n",
    "print(\"The first one looks like: \")\n",
    "pprint.pprint(crimes[0])"
   ]
  },
  {
   "cell_type": "code",
   "execution_count": null,
   "metadata": {
    "collapsed": true
   },
   "outputs": [],
   "source": []
  }
 ],
 "metadata": {
  "kernelspec": {
   "display_name": "Python 3",
   "language": "python",
   "name": "python3"
  },
  "language_info": {
   "codemirror_mode": {
    "name": "ipython",
    "version": 3
   },
   "file_extension": ".py",
   "mimetype": "text/x-python",
   "name": "python",
   "nbconvert_exporter": "python",
   "pygments_lexer": "ipython3",
   "version": "3.4.2"
  }
 },
 "nbformat": 4,
 "nbformat_minor": 0
}
