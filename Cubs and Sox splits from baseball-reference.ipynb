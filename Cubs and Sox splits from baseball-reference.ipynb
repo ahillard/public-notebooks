{
 "cells": [
  {
   "cell_type": "markdown",
   "metadata": {},
   "source": [
    "br-scraper from https://github.com/andrewblim/br-scraper is a nice little baseball-reference.com scraping utility."
   ]
  },
  {
   "cell_type": "code",
   "execution_count": 8,
   "metadata": {
    "collapsed": false
   },
   "outputs": [],
   "source": [
    "import brscraper\n",
    "scraper = brscraper.BRScraper()"
   ]
  },
  {
   "cell_type": "markdown",
   "metadata": {},
   "source": [
    "Now let's download all the games from April for the Cubs and Sox."
   ]
  },
  {
   "cell_type": "code",
   "execution_count": 14,
   "metadata": {
    "collapsed": false
   },
   "outputs": [],
   "source": [
    "from datetime import datetime\n",
    "teams = {'CHC': [], 'CHW': []}\n",
    "for team in teams:\n",
    "    for year in range(2001, 2016):\n",
    "        data = scraper.parse_tables(\"teams/%s/%d-schedule-scores.shtml\" % (team, year))\n",
    "        for game in data['team_schedule']:\n",
    "            if game['Date']:\n",
    "                date = datetime.strptime(game['Date'], '%A, %b %d')\n",
    "                if date.month == 4:\n",
    "                    teams[team].append(game)"
   ]
  },
  {
   "cell_type": "code",
   "execution_count": 15,
   "metadata": {
    "collapsed": false
   },
   "outputs": [
    {
     "name": "stdout",
     "output_type": "stream",
     "text": [
      "Cubs have 347 games, Sox have 355\n"
     ]
    }
   ],
   "source": [
    "print 'Cubs have %d games, Sox have %d' % (len(teams['CHC']), len(teams['CHW']))"
   ]
  },
  {
   "cell_type": "code",
   "execution_count": null,
   "metadata": {
    "collapsed": true
   },
   "outputs": [],
   "source": []
  }
 ],
 "metadata": {
  "kernelspec": {
   "display_name": "Python 2",
   "language": "python",
   "name": "python2"
  },
  "language_info": {
   "codemirror_mode": {
    "name": "ipython",
    "version": 2
   },
   "file_extension": ".py",
   "mimetype": "text/x-python",
   "name": "python",
   "nbconvert_exporter": "python",
   "pygments_lexer": "ipython2",
   "version": "2.7.8"
  }
 },
 "nbformat": 4,
 "nbformat_minor": 0
}
