{
 "cells": [
  {
   "cell_type": "markdown",
   "metadata": {},
   "source": [
    "These are the URLs for the JSON data powering the ESRI/ArcGIS maps."
   ]
  },
  {
   "cell_type": "code",
   "execution_count": 13,
   "metadata": {
    "collapsed": true
   },
   "outputs": [],
   "source": [
    "few_crashes_url = 'http://www.arcgis.com/sharing/rest/content/items/5a8841f92e4a42999c73e9a07aca0c23/data?f=json&token=lddNjwpwjOibZcyrhJiogNmyjIZmzh-pulx7jPD9c559e05tWo6Qr8eTcP7Deqw_CIDPwZasbNOCSBHfthynf-8WRMmguxHbIFptbZQvnpRupJHSY8Abrz__xUteBS93MitgvoU6AqSN5eDVKRYiUg..'\n",
    "removed_url = 'http://www.arcgis.com/sharing/rest/content/items/1e01ac5dc4d54dc186502316feab156e/data?f=json&token=lddNjwpwjOibZcyrhJiogNmyjIZmzh-pulx7jPD9c559e05tWo6Qr8eTcP7Deqw_CIDPwZasbNOCSBHfthynf-8WRMmguxHbIFptbZQvnpRupJHSY8Abrz__xUteBS93MitgvoU6AqSN5eDVKRYiUg..'"
   ]
  },
  {
   "cell_type": "markdown",
   "metadata": {},
   "source": [
    "We need a way to easily extract the actual data points from the JSON. The data will actually contain multiple layers (really, one layer per `operationalLayer`, but multiple `operationalLayers`) so, if we pass a title, we should return the `operationalLayer` corresponding to that title; otherwise, just return the first one."
   ]
  },
  {
   "cell_type": "code",
   "execution_count": 57,
   "metadata": {
    "collapsed": false
   },
   "outputs": [
    {
     "name": "stdout",
     "output_type": "stream",
     "text": [
      "Found 193 data points for few-crash intersections, 195 total cameras and 25 removed camera locations\n"
     ]
    }
   ],
   "source": [
    "import requests\n",
    "def extract_features(url, title=None):\n",
    "    r = requests.get(url)\n",
    "    idx = 0\n",
    "    found = False\n",
    "    if title:\n",
    "        while idx < len(r.json()['operationalLayers']):\n",
    "            for item in r.json()['operationalLayers'][idx].items():\n",
    "                if item[0] == 'title' and item[1] == title:\n",
    "                    found = True\n",
    "                    break\n",
    "            if found:\n",
    "                break\n",
    "            idx += 1\n",
    "    try:\n",
    "        return r.json()['operationalLayers'][idx]['featureCollection']['layers'][0]['featureSet']['features']\n",
    "    except IndexError, e:\n",
    "        return {}\n",
    "\n",
    "few_crashes = extract_features(few_crashes_url)\n",
    "all_cameras = extract_features(removed_url, 'All Chicago red light cameras')\n",
    "removed_cameras = extract_features(removed_url, 'red-light-cams')\n",
    "print 'Found %d data points for few-crash intersections, %d total cameras and %d removed camera locations' % (\n",
    "    len(few_crashes), len(all_cameras), len(removed_cameras))"
   ]
  },
  {
   "cell_type": "markdown",
   "metadata": {},
   "source": [
    "Now we need to filter out the bad points from few_crashes - the ones with 0 given as the lat/lon."
   ]
  },
  {
   "cell_type": "code",
   "execution_count": 35,
   "metadata": {
    "collapsed": false
   },
   "outputs": [],
   "source": [
    "filtered_few_crashes = [\n",
    "    point for point in few_crashes if point['attributes']['LONG_X'] != 0 and point['attributes']['LAT_Y'] != 0]"
   ]
  },
  {
   "cell_type": "markdown",
   "metadata": {},
   "source": [
    "Now let's build a dictionary of all the cameras, so we can merge all their info."
   ]
  },
  {
   "cell_type": "code",
   "execution_count": 61,
   "metadata": {
    "collapsed": false
   },
   "outputs": [],
   "source": [
    "cameras = {}\n",
    "for point in all_cameras:\n",
    "    label = point['attributes']['LABEL']\n",
    "    if label not in cameras:\n",
    "        cameras[label] = point\n",
    "        cameras[label]['attributes']['Few crashes'] = False\n",
    "        cameras[label]['attributes']['To be removed'] = False"
   ]
  },
  {
   "cell_type": "markdown",
   "metadata": {},
   "source": [
    "Set the `'Few crashes'` flag to True for those intersections that show up in `filtered_few_crashes`."
   ]
  },
  {
   "cell_type": "code",
   "execution_count": 62,
   "metadata": {
    "collapsed": true
   },
   "outputs": [],
   "source": [
    "for point in filtered_few_crashes:\n",
    "    label = point['attributes']['LABEL']\n",
    "    if label not in cameras:\n",
    "        print 'Missing label %s' % label\n",
    "    else:\n",
    "        cameras[label]['attributes']['Few crashes'] = True"
   ]
  },
  {
   "cell_type": "markdown",
   "metadata": {},
   "source": [
    "Set the `'To be removed'` flag to True for those intersections that show up in `removed_cameras`."
   ]
  },
  {
   "cell_type": "code",
   "execution_count": 69,
   "metadata": {
    "collapsed": false
   },
   "outputs": [],
   "source": [
    "for point in removed_cameras:\n",
    "    label = point['attributes']['displaylabel'].replace(' and ', '-')\n",
    "    if label not in cameras:\n",
    "        print 'Missing label %s' % label\n",
    "    else:\n",
    "        cameras[label]['attributes']['To be removed'] = True"
   ]
  },
  {
   "cell_type": "markdown",
   "metadata": {},
   "source": [
    "Now I'm curious: how many camera locations have few crashes and were slated to be removed?"
   ]
  },
  {
   "cell_type": "code",
   "execution_count": 78,
   "metadata": {
    "collapsed": false
   },
   "outputs": [
    {
     "name": "stdout",
     "output_type": "stream",
     "text": [
      "12 locations had few crashes and were slated to be removed: Kimball-Lincoln-McCormick; Osceola-Touhy; Vincennes-111th; Western-Pratt; Pulaski-Montrose; Cicero-Stevenson NB; Cottage Grove-95th; Harlem-Northwest Highway; Cornell-57th; Ashland-Diversey; Halsted-63rd; Elston-LaPorte-Foster\n",
      "\n",
      "61 locations had few crashes but were not slated to be removed: California-Devon; Central-Lake; Western-Van Buren; Broadway-Sheridan-Devon; Laramie-Madison; Pulaski-Lawrence; Canal-Roosevelt; Cicero-Diversey; Kedzie-47th; Halsted-North; Stony Island-89th; Western-Madison; Illinois-Columbus; Kedzie-Irving Park; Pulaski-Division; Central-Irving Park; Pulaski-Armitage; Kedzie-Armitage; Cicero-Armitage; Clark-Irving Park; Oak Park-Grand; Sacramento-Lake; Western-Chicago; Western-Cermak; Ashland-Lawrence; Damen-63rd; Wells-North; California-47th; Central-Chicago; Ontario-Kingsbury; Cicero-Harrison; Central-Diversey; Kilpatrick-Irving Park; Western-Addison; Western-71st; Pulaski-Diversey; Pulaski-North; Central-Addison; Clark-Fullerton; Clark-Chicago; Western-Touhy; Halsted-Roosevelt; California-Irving Park; Broadway-Foster; Pulaski-71ST; Western-Montrose; Halsted-Madison; Austin-Diversey; Kedzie-Devon; Kedzie-26th; Kostner-Division; Elston-Lawrence; Harlem-Addison; Lake Shore-Belmont; Racine-79th; Cicero-Peterson; Milwaukee-Montrose; Elston-Irving Park; Kedzie-55th; Elston-Addison; Damen-Division\n",
      "\n",
      "13 locations were slated to be removed despite having reasonable numbers of crashes: Damen-Blue Island; Narragansett-55th-Archer; Stony Island-83rd; Western-51st; Ashland-Archer; Ashland-47th; Central-Madison; Ashland-63rd; Halsted-83rd; California-31st; Jeffery-79th; Ashland-Garfield; Western-Armitage\n"
     ]
    }
   ],
   "source": [
    "counter = {\n",
    "    'both': {\n",
    "        'names': [],\n",
    "        'count': 0\n",
    "    },\n",
    "    'crashes only': {\n",
    "        'names': [],\n",
    "        'count': 0\n",
    "    },\n",
    "    'removed only': {\n",
    "        'names': [],\n",
    "        'count': 0\n",
    "    }\n",
    "}\n",
    "\n",
    "for camera in cameras:\n",
    "    if cameras[camera]['attributes']['Few crashes']:\n",
    "        if cameras[camera]['attributes']['To be removed']:\n",
    "            counter['both']['count'] += 1\n",
    "            counter['both']['names'].append(camera)\n",
    "        else:\n",
    "            counter['crashes only']['count'] += 1\n",
    "            counter['crashes only']['names'].append(camera)\n",
    "    elif cameras[camera]['attributes']['To be removed']:\n",
    "        counter['removed only']['count'] += 1\n",
    "        counter['removed only']['names'].append(camera)\n",
    "\n",
    "print '%d locations had few crashes and were slated to be removed: %s\\n' % (\n",
    "    counter['both']['count'], '; '.join(counter['both']['names']))\n",
    "print '%d locations had few crashes but were not slated to be removed: %s\\n' % (\n",
    "    counter['crashes only']['count'], '; '.join(counter['crashes only']['names']))\n",
    "print '%d locations were slated to be removed despite having reasonable numbers of crashes: %s' % (\n",
    "    counter['removed only']['count'], '; '.join(counter['removed only']['names']))"
   ]
  }
 ],
 "metadata": {
  "kernelspec": {
   "display_name": "Python 2",
   "language": "python",
   "name": "python2"
  },
  "language_info": {
   "codemirror_mode": {
    "name": "ipython",
    "version": 2
   },
   "file_extension": ".py",
   "mimetype": "text/x-python",
   "name": "python",
   "nbconvert_exporter": "python",
   "pygments_lexer": "ipython2",
   "version": "2.7.8"
  }
 },
 "nbformat": 4,
 "nbformat_minor": 0
}
