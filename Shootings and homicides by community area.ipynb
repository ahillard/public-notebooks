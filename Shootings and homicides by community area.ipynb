{
 "cells": [
  {
   "cell_type": "markdown",
   "metadata": {},
   "source": [
    "We're going to look at shootings and homicides from the Tribune's internal database and group them by community area.  This expands on the example in the \"Shootings and homicides within the Austin community area\" notebook because it gets data for all community areas and uses a spatial index so we don't have to loop through all the community areas for each incident."
   ]
  },
  {
   "cell_type": "markdown",
   "metadata": {},
   "source": [
    "First, we need to get the community area boundaries."
   ]
  },
  {
   "cell_type": "code",
   "execution_count": 1,
   "metadata": {
    "collapsed": false
   },
   "outputs": [
    {
     "name": "stderr",
     "output_type": "stream",
     "text": [
      "/Users/ghing/venvs/public-notebooks/lib/python3.4/site-packages/requests/packages/urllib3/connectionpool.py:791: InsecureRequestWarning: Unverified HTTPS request is being made. Adding certificate verification is strongly advised. See: https://urllib3.readthedocs.org/en/latest/security.html\n",
      "  InsecureRequestWarning)\n"
     ]
    }
   ],
   "source": [
    "import requests\n",
    "\n",
    "def get_chicago_community_areas():\n",
    "    url = 'https://data.cityofchicago.org/api/geospatial/cauq-8yn6?method=export&format=GeoJSON'\n",
    "    resp = requests.get(url, verify=False)\n",
    "    return resp.json()\n",
    "\n",
    "community_areas = get_chicago_community_areas()"
   ]
  },
  {
   "cell_type": "markdown",
   "metadata": {},
   "source": [
    "Now, let's convert the GeoJSON dicts to shapes that we can use to look up which community area a shooting or homicide is in"
   ]
  },
  {
   "cell_type": "code",
   "execution_count": 2,
   "metadata": {
    "collapsed": false
   },
   "outputs": [],
   "source": [
    "from shapely.geometry import shape\n",
    "# Get the shapes as a map between community area number and shape as we'll need the IDs anyway to build our index later\n",
    "community_area_shapes = {int(f['properties']['area_num_1']): shape(f['geometry']) for f in community_areas['features']}\n",
    "community_area_properties = {int(f['properties']['area_num_1']): f['properties'] for f in community_areas['features']}"
   ]
  },
  {
   "cell_type": "markdown",
   "metadata": {},
   "source": [
    "Build a spatial index of community areas"
   ]
  },
  {
   "cell_type": "code",
   "execution_count": 3,
   "metadata": {
    "collapsed": false
   },
   "outputs": [],
   "source": [
    "from rtree import index\n",
    "\n",
    "communty_area_index = index.Index()\n",
    "for ca_number, ca_shape in community_area_shapes.items():\n",
    "    communty_area_index.add(ca_number, ca_shape.bounds, obj=community_area_properties[ca_number])"
   ]
  },
  {
   "cell_type": "markdown",
   "metadata": {},
   "source": [
    "Let's spot check our index, just because the coordinate format, `(left, bottom, right, top)` is a little confusing to me."
   ]
  },
  {
   "cell_type": "code",
   "execution_count": 4,
   "metadata": {
    "collapsed": false
   },
   "outputs": [],
   "source": [
    "from shapely.geometry import Point\n",
    "\n",
    "def point_to_bounds(point):\n",
    "    \"\"\"\n",
    "    Convert a point to a bounding box\n",
    "    \n",
    "    It makes sense to represent points as an x,y pair, but RTree only operates\n",
    "    on bounding boxes. Convert the point to a bounding box where left == right\n",
    "    and top == bottom.\n",
    "\n",
    "    \"\"\"\n",
    "    return (point[0], point[1], point[0], point[1])\n",
    "\n",
    "def get_community_area(point, ca_idx, ca_shapes):\n",
    "    areas = []\n",
    "    for n in ca_idx.intersection(point_to_bounds(point), objects=True):\n",
    "        ca_number = int(n.object['area_num_1'])\n",
    "        ca_shape = ca_shapes[ca_number]\n",
    "        if ca_shape.contains(Point(*point)):\n",
    "            areas.append(n.object)\n",
    "    return areas\n",
    "        \n",
    "# Turkey Chop is a restaurant that is most definitely in Humboldt Park\n",
    "# Let's use it to spot-check our index\n",
    "turkey_chop_coords = [-87.7141142377237, 41.8955710581678]\n",
    "\n",
    "turkey_chop_ca = get_community_area(turkey_chop_coords, communty_area_index, community_area_shapes)\n",
    "assert turkey_chop_ca[0]['community'] == \"HUMBOLDT PARK\""
   ]
  },
  {
   "cell_type": "markdown",
   "metadata": {},
   "source": [
    "Now, let's get some data from NewsroomDB, the Tribune's internal database of homicides and shootings"
   ]
  },
  {
   "cell_type": "code",
   "execution_count": 5,
   "metadata": {
    "collapsed": false
   },
   "outputs": [
    {
     "name": "stdout",
     "output_type": "stream",
     "text": [
      "Request failed. Probably because the response is huge.  We should fix this.\n",
      "Request failed. Probably because the response is huge.  We should fix this.\n",
      "Loaded 11586 shooting victims\n",
      "Loaded 1542 homicides\n"
     ]
    }
   ],
   "source": [
    "import os\n",
    "import requests\n",
    "\n",
    "# Some constants\n",
    "NEWSROOMDB_URL = os.environ['NEWSROOMDB_URL']\n",
    "\n",
    "# A big object to hold all our data between steps\n",
    "data = {}\n",
    "\n",
    "def get_table_url(table_name, base_url=NEWSROOMDB_URL):\n",
    "    return '{}table/json/{}'.format(base_url, table_name)\n",
    "\n",
    "def get_table_data(table_name):\n",
    "    url = get_table_url(table_name)\n",
    "    \n",
    "    try:\n",
    "        r = requests.get(url)\n",
    "        return r.json()\n",
    "    except:\n",
    "        print(\"Request failed. Probably because the response is huge.  We should fix this.\")\n",
    "        return get_table_data(table_name)\n",
    "\n",
    "data['shooting_victims'] = get_table_data('shootings')\n",
    "print(\"Loaded {} shooting victims\".format(len(data['shooting_victims'])))\n",
    "\n",
    "data['homicides'] = get_table_data('homicides')\n",
    "print(\"Loaded {} homicides\".format(len(data['homicides'])))"
   ]
  },
  {
   "cell_type": "markdown",
   "metadata": {},
   "source": [
    "Let's create PANDAS dataframes out of the loaded data"
   ]
  },
  {
   "cell_type": "code",
   "execution_count": 6,
   "metadata": {
    "collapsed": false
   },
   "outputs": [],
   "source": [
    "import pandas as pd\n",
    "import numpy as np\n",
    "\n",
    "data['shooting_victims_df'] = pd.DataFrame(data['shooting_victims'])\n",
    "data['homicides_df'] = pd.DataFrame(data['homicides'])"
   ]
  },
  {
   "cell_type": "markdown",
   "metadata": {},
   "source": [
    "Parse the date fields into Python date objects for easier analysis and make separate month and year columns to make grouping easier."
   ]
  },
  {
   "cell_type": "code",
   "execution_count": 7,
   "metadata": {
    "collapsed": false
   },
   "outputs": [],
   "source": [
    "from datetime import datetime\n",
    "\n",
    "def parse_date(s):\n",
    "    try:\n",
    "        return datetime.strptime(s, '%Y-%m-%d').date()\n",
    "    except ValueError:\n",
    "        return None\n",
    "    \n",
    "data['shooting_victims_df']['Date'] = data['shooting_victims_df']['Date'].apply(parse_date)\n",
    "data['shooting_victims_df']['month'] = data['shooting_victims_df']['Date'].apply(lambda x: x.month if x else None)\n",
    "data['shooting_victims_df']['year'] = data['shooting_victims_df']['Date'].apply(lambda x: x.year if x else None)"
   ]
  },
  {
   "cell_type": "markdown",
   "metadata": {},
   "source": [
    "We'll start with shootings.  Assign each shooting to a community area using the index we built earlier."
   ]
  },
  {
   "cell_type": "code",
   "execution_count": 8,
   "metadata": {
    "collapsed": false
   },
   "outputs": [
    {
     "name": "stdout",
     "output_type": "stream",
     "text": [
      "No community area found for record with coordinates (-87.742872, 41.762969)\n",
      "No community area found for record with coordinates (-87.742872, 41.762969)\n",
      "No community area found for record with coordinates (-87.690307, 41.730243)\n",
      "No community area found for record with coordinates (-87.651214, 41.511413)\n",
      "No community area found for record with coordinates (-87.812812, 41.911125)\n",
      "No community area found for record with coordinates (-87.930351, 41.958801)\n",
      "No community area found for record with coordinates (-87.682444, 41.730165)\n",
      "No community area found for record with coordinates (-87.652854, 41.508438)\n",
      "No community area found for record with coordinates (-87.627502, 41.504604)\n",
      "No community area found for record with coordinates (-87.700546, 42.019557)\n",
      "No community area found for record with coordinates (-84.5535506308079, 41.6678441315889)\n",
      "No community area found for record with coordinates (-87.700546, 42.019557)\n",
      "No community area found for record with coordinates (-95.9222953766584, 35.9909527748823)\n",
      "No community area found for record with coordinates (-87.762807789495, 41.8110412403273)\n",
      "No community area found for record with coordinates (-87.81238630414009, 41.95269003510475)\n",
      "No community area found for record with coordinates (-97.94587723910809, 35.53741604089737)\n",
      "No community area found for record with coordinates (-87.85710543394089, 42.867526486516)\n",
      "No community area found for record with coordinates (-87.85710543394089, 42.867526486516)\n",
      "No community area found for record with coordinates (-117.07955932617188, 32.69026184082031)\n",
      "No community area found for record with coordinates (-88.18666309118271, 41.70995280146599)\n",
      "No community area found for record with coordinates (-118.30857849121094, 33.802249908447266)\n",
      "No community area found for record with coordinates (-89.16730619966984, 45.15423908829689)\n",
      "No community area found for record with coordinates (-87.87754821777344, 42.09328079223633)\n",
      "No community area found for record with coordinates (-119.80324544012547, 39.53507088124752)\n"
     ]
    }
   ],
   "source": [
    "import pprint\n",
    "import re\n",
    "\n",
    "def parse_coordinates(coordinate_str):\n",
    "    \"\"\"Convert a lat, lng string to a pair of lng, lat floats\"\"\"\n",
    "    lat, lng = [float(c) for c in re.sub(r'[\\(\\) ]', '', coordinate_str).split(',')]\n",
    "    return lng, lat\n",
    "\n",
    "shooting_victim_community_areas = {}\n",
    "\n",
    "for victim in data['shooting_victims']:\n",
    "    try:\n",
    "        coords = parse_coordinates(victim['Geocode Override'])\n",
    "    except ValueError:\n",
    "        shooting_victim_community_areas[victim['_id']] = '__invalid__'\n",
    "        continue\n",
    "        \n",
    "    ca = get_community_area(coords, communty_area_index, community_area_shapes)\n",
    "    \n",
    "    if len(ca) == 0:\n",
    "        shooting_victim_community_areas[victim['_id']] = '__invalid__'\n",
    "        print(\"No community area found for record with coordinates {}\".format(coords))\n",
    "    elif len(ca) > 1:\n",
    "        raise ValueError(\"Multiple community areas found for record with coordinates {}\".format(coords))\n",
    "    else:\n",
    "        shooting_victim_community_areas[victim['_id']] = ca[0]['community']\n",
    "        \n",
    "data['shooting_victim_community_areas'] = pd.DataFrame([{'_id': k, 'community': v} for k, v in shooting_victim_community_areas.items()])"
   ]
  },
  {
   "cell_type": "markdown",
   "metadata": {},
   "source": [
    "Join the community area to the shooting victims data"
   ]
  },
  {
   "cell_type": "code",
   "execution_count": 9,
   "metadata": {
    "collapsed": false
   },
   "outputs": [],
   "source": [
    "data['shooting_victims_df__with_ca'] = data['shooting_victims_df'].merge(\n",
    "    data['shooting_victim_community_areas'],\n",
    "    how='left',\n",
    "    on='_id')"
   ]
  },
  {
   "cell_type": "markdown",
   "metadata": {},
   "source": [
    "And count the victims by community area, year and month"
   ]
  },
  {
   "cell_type": "code",
   "execution_count": 32,
   "metadata": {
    "collapsed": false
   },
   "outputs": [],
   "source": [
    "data['shooting_victims_by_ca'] = pd.DataFrame(data['shooting_victims_df__with_ca'].groupby(['community', 'year', 'month']).size())"
   ]
  },
  {
   "cell_type": "markdown",
   "metadata": {},
   "source": [
    "Let's just look at March 2016 shooting victims"
   ]
  },
  {
   "cell_type": "code",
   "execution_count": 33,
   "metadata": {
    "collapsed": false
   },
   "outputs": [
    {
     "data": {
      "text/html": [
       "<div>\n",
       "<table border=\"1\" class=\"dataframe\">\n",
       "  <thead>\n",
       "    <tr style=\"text-align: right;\">\n",
       "      <th></th>\n",
       "      <th></th>\n",
       "      <th></th>\n",
       "      <th>0</th>\n",
       "    </tr>\n",
       "    <tr>\n",
       "      <th>community</th>\n",
       "      <th>year</th>\n",
       "      <th>month</th>\n",
       "      <th></th>\n",
       "    </tr>\n",
       "  </thead>\n",
       "  <tbody>\n",
       "    <tr>\n",
       "      <th>AUSTIN</th>\n",
       "      <th>2016.0</th>\n",
       "      <th>3.0</th>\n",
       "      <td>36</td>\n",
       "    </tr>\n",
       "    <tr>\n",
       "      <th>HUMBOLDT PARK</th>\n",
       "      <th>2016.0</th>\n",
       "      <th>3.0</th>\n",
       "      <td>27</td>\n",
       "    </tr>\n",
       "    <tr>\n",
       "      <th>WEST ENGLEWOOD</th>\n",
       "      <th>2016.0</th>\n",
       "      <th>3.0</th>\n",
       "      <td>23</td>\n",
       "    </tr>\n",
       "    <tr>\n",
       "      <th>NORTH LAWNDALE</th>\n",
       "      <th>2016.0</th>\n",
       "      <th>3.0</th>\n",
       "      <td>18</td>\n",
       "    </tr>\n",
       "    <tr>\n",
       "      <th>WEST GARFIELD PARK</th>\n",
       "      <th>2016.0</th>\n",
       "      <th>3.0</th>\n",
       "      <td>15</td>\n",
       "    </tr>\n",
       "    <tr>\n",
       "      <th>EAST GARFIELD PARK</th>\n",
       "      <th>2016.0</th>\n",
       "      <th>3.0</th>\n",
       "      <td>13</td>\n",
       "    </tr>\n",
       "    <tr>\n",
       "      <th>NEW CITY</th>\n",
       "      <th>2016.0</th>\n",
       "      <th>3.0</th>\n",
       "      <td>12</td>\n",
       "    </tr>\n",
       "    <tr>\n",
       "      <th>AUBURN GRESHAM</th>\n",
       "      <th>2016.0</th>\n",
       "      <th>3.0</th>\n",
       "      <td>11</td>\n",
       "    </tr>\n",
       "    <tr>\n",
       "      <th>ENGLEWOOD</th>\n",
       "      <th>2016.0</th>\n",
       "      <th>3.0</th>\n",
       "      <td>11</td>\n",
       "    </tr>\n",
       "    <tr>\n",
       "      <th>SOUTH LAWNDALE</th>\n",
       "      <th>2016.0</th>\n",
       "      <th>3.0</th>\n",
       "      <td>9</td>\n",
       "    </tr>\n",
       "    <tr>\n",
       "      <th>ROSELAND</th>\n",
       "      <th>2016.0</th>\n",
       "      <th>3.0</th>\n",
       "      <td>9</td>\n",
       "    </tr>\n",
       "    <tr>\n",
       "      <th>GREATER GRAND CROSSING</th>\n",
       "      <th>2016.0</th>\n",
       "      <th>3.0</th>\n",
       "      <td>8</td>\n",
       "    </tr>\n",
       "    <tr>\n",
       "      <th>CHICAGO LAWN</th>\n",
       "      <th>2016.0</th>\n",
       "      <th>3.0</th>\n",
       "      <td>8</td>\n",
       "    </tr>\n",
       "    <tr>\n",
       "      <th>WASHINGTON HEIGHTS</th>\n",
       "      <th>2016.0</th>\n",
       "      <th>3.0</th>\n",
       "      <td>6</td>\n",
       "    </tr>\n",
       "    <tr>\n",
       "      <th>WEST PULLMAN</th>\n",
       "      <th>2016.0</th>\n",
       "      <th>3.0</th>\n",
       "      <td>6</td>\n",
       "    </tr>\n",
       "    <tr>\n",
       "      <th>WOODLAWN</th>\n",
       "      <th>2016.0</th>\n",
       "      <th>3.0</th>\n",
       "      <td>6</td>\n",
       "    </tr>\n",
       "    <tr>\n",
       "      <th>CHATHAM</th>\n",
       "      <th>2016.0</th>\n",
       "      <th>3.0</th>\n",
       "      <td>6</td>\n",
       "    </tr>\n",
       "    <tr>\n",
       "      <th>SOUTH DEERING</th>\n",
       "      <th>2016.0</th>\n",
       "      <th>3.0</th>\n",
       "      <td>5</td>\n",
       "    </tr>\n",
       "    <tr>\n",
       "      <th>NEAR WEST SIDE</th>\n",
       "      <th>2016.0</th>\n",
       "      <th>3.0</th>\n",
       "      <td>5</td>\n",
       "    </tr>\n",
       "    <tr>\n",
       "      <th>SOUTH SHORE</th>\n",
       "      <th>2016.0</th>\n",
       "      <th>3.0</th>\n",
       "      <td>4</td>\n",
       "    </tr>\n",
       "    <tr>\n",
       "      <th>GRAND BOULEVARD</th>\n",
       "      <th>2016.0</th>\n",
       "      <th>3.0</th>\n",
       "      <td>4</td>\n",
       "    </tr>\n",
       "    <tr>\n",
       "      <th>WEST TOWN</th>\n",
       "      <th>2016.0</th>\n",
       "      <th>3.0</th>\n",
       "      <td>4</td>\n",
       "    </tr>\n",
       "    <tr>\n",
       "      <th>MORGAN PARK</th>\n",
       "      <th>2016.0</th>\n",
       "      <th>3.0</th>\n",
       "      <td>4</td>\n",
       "    </tr>\n",
       "    <tr>\n",
       "      <th>BELMONT CRAGIN</th>\n",
       "      <th>2016.0</th>\n",
       "      <th>3.0</th>\n",
       "      <td>4</td>\n",
       "    </tr>\n",
       "    <tr>\n",
       "      <th>__invalid__</th>\n",
       "      <th>2016.0</th>\n",
       "      <th>3.0</th>\n",
       "      <td>4</td>\n",
       "    </tr>\n",
       "    <tr>\n",
       "      <th>UPTOWN</th>\n",
       "      <th>2016.0</th>\n",
       "      <th>3.0</th>\n",
       "      <td>3</td>\n",
       "    </tr>\n",
       "    <tr>\n",
       "      <th>ROGERS PARK</th>\n",
       "      <th>2016.0</th>\n",
       "      <th>3.0</th>\n",
       "      <td>3</td>\n",
       "    </tr>\n",
       "    <tr>\n",
       "      <th>ALBANY PARK</th>\n",
       "      <th>2016.0</th>\n",
       "      <th>3.0</th>\n",
       "      <td>3</td>\n",
       "    </tr>\n",
       "    <tr>\n",
       "      <th>NEAR NORTH SIDE</th>\n",
       "      <th>2016.0</th>\n",
       "      <th>3.0</th>\n",
       "      <td>3</td>\n",
       "    </tr>\n",
       "    <tr>\n",
       "      <th>CALUMET HEIGHTS</th>\n",
       "      <th>2016.0</th>\n",
       "      <th>3.0</th>\n",
       "      <td>3</td>\n",
       "    </tr>\n",
       "    <tr>\n",
       "      <th>IRVING PARK</th>\n",
       "      <th>2016.0</th>\n",
       "      <th>3.0</th>\n",
       "      <td>2</td>\n",
       "    </tr>\n",
       "    <tr>\n",
       "      <th>AVONDALE</th>\n",
       "      <th>2016.0</th>\n",
       "      <th>3.0</th>\n",
       "      <td>2</td>\n",
       "    </tr>\n",
       "    <tr>\n",
       "      <th>BRIGHTON PARK</th>\n",
       "      <th>2016.0</th>\n",
       "      <th>3.0</th>\n",
       "      <td>2</td>\n",
       "    </tr>\n",
       "    <tr>\n",
       "      <th>WASHINGTON PARK</th>\n",
       "      <th>2016.0</th>\n",
       "      <th>3.0</th>\n",
       "      <td>2</td>\n",
       "    </tr>\n",
       "    <tr>\n",
       "      <th>EAST SIDE</th>\n",
       "      <th>2016.0</th>\n",
       "      <th>3.0</th>\n",
       "      <td>2</td>\n",
       "    </tr>\n",
       "    <tr>\n",
       "      <th>HERMOSA</th>\n",
       "      <th>2016.0</th>\n",
       "      <th>3.0</th>\n",
       "      <td>2</td>\n",
       "    </tr>\n",
       "    <tr>\n",
       "      <th>GAGE PARK</th>\n",
       "      <th>2016.0</th>\n",
       "      <th>3.0</th>\n",
       "      <td>2</td>\n",
       "    </tr>\n",
       "    <tr>\n",
       "      <th>LOWER WEST SIDE</th>\n",
       "      <th>2016.0</th>\n",
       "      <th>3.0</th>\n",
       "      <td>2</td>\n",
       "    </tr>\n",
       "    <tr>\n",
       "      <th>LOOP</th>\n",
       "      <th>2016.0</th>\n",
       "      <th>3.0</th>\n",
       "      <td>1</td>\n",
       "    </tr>\n",
       "    <tr>\n",
       "      <th>SOUTH CHICAGO</th>\n",
       "      <th>2016.0</th>\n",
       "      <th>3.0</th>\n",
       "      <td>1</td>\n",
       "    </tr>\n",
       "    <tr>\n",
       "      <th>NORWOOD PARK</th>\n",
       "      <th>2016.0</th>\n",
       "      <th>3.0</th>\n",
       "      <td>1</td>\n",
       "    </tr>\n",
       "    <tr>\n",
       "      <th>MCKINLEY PARK</th>\n",
       "      <th>2016.0</th>\n",
       "      <th>3.0</th>\n",
       "      <td>1</td>\n",
       "    </tr>\n",
       "    <tr>\n",
       "      <th>DOUGLAS</th>\n",
       "      <th>2016.0</th>\n",
       "      <th>3.0</th>\n",
       "      <td>1</td>\n",
       "    </tr>\n",
       "    <tr>\n",
       "      <th>RIVERDALE</th>\n",
       "      <th>2016.0</th>\n",
       "      <th>3.0</th>\n",
       "      <td>1</td>\n",
       "    </tr>\n",
       "    <tr>\n",
       "      <th>WEST LAWN</th>\n",
       "      <th>2016.0</th>\n",
       "      <th>3.0</th>\n",
       "      <td>1</td>\n",
       "    </tr>\n",
       "    <tr>\n",
       "      <th>PULLMAN</th>\n",
       "      <th>2016.0</th>\n",
       "      <th>3.0</th>\n",
       "      <td>1</td>\n",
       "    </tr>\n",
       "    <tr>\n",
       "      <th>WEST RIDGE</th>\n",
       "      <th>2016.0</th>\n",
       "      <th>3.0</th>\n",
       "      <td>1</td>\n",
       "    </tr>\n",
       "    <tr>\n",
       "      <th>BRIDGEPORT</th>\n",
       "      <th>2016.0</th>\n",
       "      <th>3.0</th>\n",
       "      <td>1</td>\n",
       "    </tr>\n",
       "    <tr>\n",
       "      <th>OAKLAND</th>\n",
       "      <th>2016.0</th>\n",
       "      <th>3.0</th>\n",
       "      <td>1</td>\n",
       "    </tr>\n",
       "    <tr>\n",
       "      <th>ASHBURN</th>\n",
       "      <th>2016.0</th>\n",
       "      <th>3.0</th>\n",
       "      <td>1</td>\n",
       "    </tr>\n",
       "  </tbody>\n",
       "</table>\n",
       "</div>"
      ],
      "text/plain": [
       "                                      0\n",
       "community              year   month    \n",
       "AUSTIN                 2016.0 3.0    36\n",
       "HUMBOLDT PARK          2016.0 3.0    27\n",
       "WEST ENGLEWOOD         2016.0 3.0    23\n",
       "NORTH LAWNDALE         2016.0 3.0    18\n",
       "WEST GARFIELD PARK     2016.0 3.0    15\n",
       "EAST GARFIELD PARK     2016.0 3.0    13\n",
       "NEW CITY               2016.0 3.0    12\n",
       "AUBURN GRESHAM         2016.0 3.0    11\n",
       "ENGLEWOOD              2016.0 3.0    11\n",
       "SOUTH LAWNDALE         2016.0 3.0     9\n",
       "ROSELAND               2016.0 3.0     9\n",
       "GREATER GRAND CROSSING 2016.0 3.0     8\n",
       "CHICAGO LAWN           2016.0 3.0     8\n",
       "WASHINGTON HEIGHTS     2016.0 3.0     6\n",
       "WEST PULLMAN           2016.0 3.0     6\n",
       "WOODLAWN               2016.0 3.0     6\n",
       "CHATHAM                2016.0 3.0     6\n",
       "SOUTH DEERING          2016.0 3.0     5\n",
       "NEAR WEST SIDE         2016.0 3.0     5\n",
       "SOUTH SHORE            2016.0 3.0     4\n",
       "GRAND BOULEVARD        2016.0 3.0     4\n",
       "WEST TOWN              2016.0 3.0     4\n",
       "MORGAN PARK            2016.0 3.0     4\n",
       "BELMONT CRAGIN         2016.0 3.0     4\n",
       "__invalid__            2016.0 3.0     4\n",
       "UPTOWN                 2016.0 3.0     3\n",
       "ROGERS PARK            2016.0 3.0     3\n",
       "ALBANY PARK            2016.0 3.0     3\n",
       "NEAR NORTH SIDE        2016.0 3.0     3\n",
       "CALUMET HEIGHTS        2016.0 3.0     3\n",
       "IRVING PARK            2016.0 3.0     2\n",
       "AVONDALE               2016.0 3.0     2\n",
       "BRIGHTON PARK          2016.0 3.0     2\n",
       "WASHINGTON PARK        2016.0 3.0     2\n",
       "EAST SIDE              2016.0 3.0     2\n",
       "HERMOSA                2016.0 3.0     2\n",
       "GAGE PARK              2016.0 3.0     2\n",
       "LOWER WEST SIDE        2016.0 3.0     2\n",
       "LOOP                   2016.0 3.0     1\n",
       "SOUTH CHICAGO          2016.0 3.0     1\n",
       "NORWOOD PARK           2016.0 3.0     1\n",
       "MCKINLEY PARK          2016.0 3.0     1\n",
       "DOUGLAS                2016.0 3.0     1\n",
       "RIVERDALE              2016.0 3.0     1\n",
       "WEST LAWN              2016.0 3.0     1\n",
       "PULLMAN                2016.0 3.0     1\n",
       "WEST RIDGE             2016.0 3.0     1\n",
       "BRIDGEPORT             2016.0 3.0     1\n",
       "OAKLAND                2016.0 3.0     1\n",
       "ASHBURN                2016.0 3.0     1"
      ]
     },
     "execution_count": 33,
     "metadata": {},
     "output_type": "execute_result"
    }
   ],
   "source": [
    "df = data['shooting_victims_by_ca']\n",
    "df[(df.index.get_level_values('year') == 2016) & (df.index.get_level_values('month') == 3)].sort_values(by=0, ascending=False)"
   ]
  },
  {
   "cell_type": "markdown",
   "metadata": {
    "collapsed": true
   },
   "source": [
    "How did March Humboldt Park shootings look over time? "
   ]
  },
  {
   "cell_type": "code",
   "execution_count": 34,
   "metadata": {
    "collapsed": false
   },
   "outputs": [
    {
     "data": {
      "text/html": [
       "<div>\n",
       "<table border=\"1\" class=\"dataframe\">\n",
       "  <thead>\n",
       "    <tr style=\"text-align: right;\">\n",
       "      <th></th>\n",
       "      <th></th>\n",
       "      <th></th>\n",
       "      <th>0</th>\n",
       "    </tr>\n",
       "    <tr>\n",
       "      <th>community</th>\n",
       "      <th>year</th>\n",
       "      <th>month</th>\n",
       "      <th></th>\n",
       "    </tr>\n",
       "  </thead>\n",
       "  <tbody>\n",
       "    <tr>\n",
       "      <th rowspan=\"5\" valign=\"top\">HUMBOLDT PARK</th>\n",
       "      <th>2012.0</th>\n",
       "      <th>3.0</th>\n",
       "      <td>8</td>\n",
       "    </tr>\n",
       "    <tr>\n",
       "      <th>2013.0</th>\n",
       "      <th>3.0</th>\n",
       "      <td>5</td>\n",
       "    </tr>\n",
       "    <tr>\n",
       "      <th>2014.0</th>\n",
       "      <th>3.0</th>\n",
       "      <td>6</td>\n",
       "    </tr>\n",
       "    <tr>\n",
       "      <th>2015.0</th>\n",
       "      <th>3.0</th>\n",
       "      <td>6</td>\n",
       "    </tr>\n",
       "    <tr>\n",
       "      <th>2016.0</th>\n",
       "      <th>3.0</th>\n",
       "      <td>27</td>\n",
       "    </tr>\n",
       "  </tbody>\n",
       "</table>\n",
       "</div>"
      ],
      "text/plain": [
       "                             0\n",
       "community     year   month    \n",
       "HUMBOLDT PARK 2012.0 3.0     8\n",
       "              2013.0 3.0     5\n",
       "              2014.0 3.0     6\n",
       "              2015.0 3.0     6\n",
       "              2016.0 3.0    27"
      ]
     },
     "execution_count": 34,
     "metadata": {},
     "output_type": "execute_result"
    }
   ],
   "source": [
    "df = data['shooting_victims_by_ca']\n",
    "df[(df.index.get_level_values('community') == \"HUMBOLDT PARK\") & (df.index.get_level_values('month') == 3)]"
   ]
  },
  {
   "cell_type": "code",
   "execution_count": null,
   "metadata": {
    "collapsed": false
   },
   "outputs": [],
   "source": []
  }
 ],
 "metadata": {
  "kernelspec": {
   "display_name": "Python 3",
   "language": "python",
   "name": "python3"
  },
  "language_info": {
   "codemirror_mode": {
    "name": "ipython",
    "version": 3
   },
   "file_extension": ".py",
   "mimetype": "text/x-python",
   "name": "python",
   "nbconvert_exporter": "python",
   "pygments_lexer": "ipython3",
   "version": "3.4.2"
  }
 },
 "nbformat": 4,
 "nbformat_minor": 0
}
