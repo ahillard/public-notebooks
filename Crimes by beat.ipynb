{
 "cells": [
  {
   "cell_type": "markdown",
   "metadata": {},
   "source": [
    "First, we need to know how far back to go. We want equal number of days before and after November 18, 2014."
   ]
  },
  {
   "cell_type": "code",
   "execution_count": 4,
   "metadata": {
    "collapsed": false
   },
   "outputs": [
    {
     "name": "stdout",
     "output_type": "stream",
     "text": [
      "434 days, 17:15:25.604433\n"
     ]
    }
   ],
   "source": [
    "from datetime import datetime, timedelta\n",
    "pivot = datetime.strptime('11/18/2014', '%m/%d/%Y')\n",
    "today = datetime.now()\n",
    "print today - pivot"
   ]
  },
  {
   "cell_type": "code",
   "execution_count": 5,
   "metadata": {
    "collapsed": false
   },
   "outputs": [
    {
     "name": "stdout",
     "output_type": "stream",
     "text": [
      "2013-09-10 00:00:00\n"
     ]
    }
   ],
   "source": [
    "period = timedelta(days=434)\n",
    "print pivot - period"
   ]
  },
  {
   "cell_type": "markdown",
   "metadata": {},
   "source": [
    "Since this was run on 1/26/2016, 434 days after November 18, 2014, we want to go to 434 days before that date, which is 9/10/2013."
   ]
  },
  {
   "cell_type": "code",
   "execution_count": null,
   "metadata": {
    "collapsed": true
   },
   "outputs": [],
   "source": []
  }
 ],
 "metadata": {
  "kernelspec": {
   "display_name": "Python 2",
   "language": "python",
   "name": "python2"
  },
  "language_info": {
   "codemirror_mode": {
    "name": "ipython",
    "version": 2
   },
   "file_extension": ".py",
   "mimetype": "text/x-python",
   "name": "python",
   "nbconvert_exporter": "python",
   "pygments_lexer": "ipython2",
   "version": "2.7.8"
  }
 },
 "nbformat": 4,
 "nbformat_minor": 0
}
